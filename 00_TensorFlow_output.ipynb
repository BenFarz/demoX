{
  "nbformat": 4,
  "nbformat_minor": 0,
  "metadata": {
    "colab": {
      "name": "00_TensorFlow_output.ipynb",
      "provenance": [],
      "collapsed_sections": [],
      "authorship_tag": "ABX9TyMXD3m90SJozdU5A3d8sJZZ",
      "include_colab_link": true
    },
    "kernelspec": {
      "name": "python3",
      "display_name": "Python 3"
    },
    "language_info": {
      "name": "python"
    }
  },
  "cells": [
    {
      "cell_type": "markdown",
      "metadata": {
        "id": "view-in-github",
        "colab_type": "text"
      },
      "source": [
        "<a href=\"https://colab.research.google.com/github/BenFarz/demoX/blob/main/00_TensorFlow_output.ipynb\" target=\"_parent\"><img src=\"https://colab.research.google.com/assets/colab-badge.svg\" alt=\"Open In Colab\"/></a>"
      ]
    },
    {
      "cell_type": "code",
      "execution_count": 2,
      "metadata": {
        "id": "akp-6qZENIR7"
      },
      "outputs": [],
      "source": [
        "# This is my review of previous learning\n"
      ]
    },
    {
      "cell_type": "code",
      "source": [
        "import tensorflow as tf\n",
        "print(tf.__version__)"
      ],
      "metadata": {
        "colab": {
          "base_uri": "https://localhost:8080/"
        },
        "id": "iMYBsCQbOtnf",
        "outputId": "fc7cf427-d651-4e1c-d2c2-766ea988676f"
      },
      "execution_count": 22,
      "outputs": [
        {
          "output_type": "stream",
          "name": "stdout",
          "text": [
            "2.8.2\n"
          ]
        }
      ]
    },
    {
      "cell_type": "code",
      "source": [
        "ixix=tf.constant(7)\n",
        "ixix"
      ],
      "metadata": {
        "colab": {
          "base_uri": "https://localhost:8080/"
        },
        "id": "TQt2zoBOQBoO",
        "outputId": "9aa50b8f-9fb1-4042-cbb2-73679d65aec0"
      },
      "execution_count": 4,
      "outputs": [
        {
          "output_type": "execute_result",
          "data": {
            "text/plain": [
              "<tf.Tensor: shape=(), dtype=int32, numpy=7>"
            ]
          },
          "metadata": {},
          "execution_count": 4
        }
      ]
    },
    {
      "cell_type": "code",
      "source": [
        "ixix.ndim"
      ],
      "metadata": {
        "colab": {
          "base_uri": "https://localhost:8080/"
        },
        "id": "xj5zv6T7RlGh",
        "outputId": "77084fd1-76b2-431f-ba50-8183369c562d"
      },
      "execution_count": 5,
      "outputs": [
        {
          "output_type": "execute_result",
          "data": {
            "text/plain": [
              "0"
            ]
          },
          "metadata": {},
          "execution_count": 5
        }
      ]
    },
    {
      "cell_type": "code",
      "source": [
        "vector=tf.constant([4,3])\n",
        "vector"
      ],
      "metadata": {
        "colab": {
          "base_uri": "https://localhost:8080/"
        },
        "id": "u75lSn7iR5DF",
        "outputId": "4c6af53e-fba2-485b-a058-4754bc968db8"
      },
      "execution_count": 6,
      "outputs": [
        {
          "output_type": "execute_result",
          "data": {
            "text/plain": [
              "<tf.Tensor: shape=(2,), dtype=int32, numpy=array([4, 3], dtype=int32)>"
            ]
          },
          "metadata": {},
          "execution_count": 6
        }
      ]
    },
    {
      "cell_type": "code",
      "source": [
        "vector.ndim\n"
      ],
      "metadata": {
        "colab": {
          "base_uri": "https://localhost:8080/"
        },
        "id": "2xXMK71-STKV",
        "outputId": "a2950977-bf78-41bc-ecac-4ec72186acf2"
      },
      "execution_count": 7,
      "outputs": [
        {
          "output_type": "execute_result",
          "data": {
            "text/plain": [
              "1"
            ]
          },
          "metadata": {},
          "execution_count": 7
        }
      ]
    },
    {
      "cell_type": "code",
      "source": [
        "mtx=tf.constant([[10,7],\n",
        "                [7,10]])\n",
        "mtx"
      ],
      "metadata": {
        "colab": {
          "base_uri": "https://localhost:8080/"
        },
        "id": "TkBtlY-DSgH3",
        "outputId": "f339824f-0ca2-4efe-ddca-b692e0b32ba8"
      },
      "execution_count": 8,
      "outputs": [
        {
          "output_type": "execute_result",
          "data": {
            "text/plain": [
              "<tf.Tensor: shape=(2, 2), dtype=int32, numpy=\n",
              "array([[10,  7],\n",
              "       [ 7, 10]], dtype=int32)>"
            ]
          },
          "metadata": {},
          "execution_count": 8
        }
      ]
    },
    {
      "cell_type": "code",
      "source": [
        "mtx"
      ],
      "metadata": {
        "colab": {
          "base_uri": "https://localhost:8080/"
        },
        "id": "amsMBZ75TByL",
        "outputId": "7e472db0-c33b-4bfd-beaf-5d9d6558c31a"
      },
      "execution_count": 9,
      "outputs": [
        {
          "output_type": "execute_result",
          "data": {
            "text/plain": [
              "<tf.Tensor: shape=(2, 2), dtype=int32, numpy=\n",
              "array([[10,  7],\n",
              "       [ 7, 10]], dtype=int32)>"
            ]
          },
          "metadata": {},
          "execution_count": 9
        }
      ]
    },
    {
      "cell_type": "code",
      "source": [
        "mtx.ndim"
      ],
      "metadata": {
        "colab": {
          "base_uri": "https://localhost:8080/"
        },
        "id": "_0l-FYc7TFaw",
        "outputId": "ced583ef-42d7-403e-f41e-7bed9fc9e15e"
      },
      "execution_count": 10,
      "outputs": [
        {
          "output_type": "execute_result",
          "data": {
            "text/plain": [
              "2"
            ]
          },
          "metadata": {},
          "execution_count": 10
        }
      ]
    },
    {
      "cell_type": "code",
      "source": [
        "mtx2=tf.constant([[1.,3.],\n",
        "                  [34.,43.],\n",
        "                  [2.,3.]], dtype=tf.float16)\n",
        "mtx2"
      ],
      "metadata": {
        "colab": {
          "base_uri": "https://localhost:8080/"
        },
        "id": "MeRlXJRKTVBP",
        "outputId": "6de091b2-793f-4e4b-de3b-adc42ee6ab2f"
      },
      "execution_count": 11,
      "outputs": [
        {
          "output_type": "execute_result",
          "data": {
            "text/plain": [
              "<tf.Tensor: shape=(3, 2), dtype=float16, numpy=\n",
              "array([[ 1.,  3.],\n",
              "       [34., 43.],\n",
              "       [ 2.,  3.]], dtype=float16)>"
            ]
          },
          "metadata": {},
          "execution_count": 11
        }
      ]
    },
    {
      "cell_type": "code",
      "source": [
        "mtx2.ndim"
      ],
      "metadata": {
        "colab": {
          "base_uri": "https://localhost:8080/"
        },
        "id": "Yq2JYh2dU5hW",
        "outputId": "ed31359e-c2a2-424a-a5e2-1e25d95e879c"
      },
      "execution_count": 12,
      "outputs": [
        {
          "output_type": "execute_result",
          "data": {
            "text/plain": [
              "2"
            ]
          },
          "metadata": {},
          "execution_count": 12
        }
      ]
    },
    {
      "cell_type": "code",
      "source": [
        "mtx3=tf.constant([[[3.,56.,76.],\n",
        "                   [34.,43.,4.]],\n",
        "                  [[2.,3.,4.],\n",
        "                   [23.,32.,22.]],\n",
        "                  [[28.,11.,22.],\n",
        "                   [43.,56.,76.]]])\n",
        "mtx3"
      ],
      "metadata": {
        "colab": {
          "base_uri": "https://localhost:8080/"
        },
        "id": "Az3zKuVJVkgO",
        "outputId": "b3b4fb8b-d1f6-49a1-ecb5-3edfe8430024"
      },
      "execution_count": 13,
      "outputs": [
        {
          "output_type": "execute_result",
          "data": {
            "text/plain": [
              "<tf.Tensor: shape=(3, 2, 3), dtype=float32, numpy=\n",
              "array([[[ 3., 56., 76.],\n",
              "        [34., 43.,  4.]],\n",
              "\n",
              "       [[ 2.,  3.,  4.],\n",
              "        [23., 32., 22.]],\n",
              "\n",
              "       [[28., 11., 22.],\n",
              "        [43., 56., 76.]]], dtype=float32)>"
            ]
          },
          "metadata": {},
          "execution_count": 13
        }
      ]
    },
    {
      "cell_type": "code",
      "source": [
        "mtx3.ndim"
      ],
      "metadata": {
        "colab": {
          "base_uri": "https://localhost:8080/"
        },
        "id": "HDxaYn8cWmT_",
        "outputId": "b3ec8313-8e9b-44cf-980a-1622cb047934"
      },
      "execution_count": 14,
      "outputs": [
        {
          "output_type": "execute_result",
          "data": {
            "text/plain": [
              "3"
            ]
          },
          "metadata": {},
          "execution_count": 14
        }
      ]
    },
    {
      "cell_type": "markdown",
      "source": [
        "# second trains of 'tf.variable'"
      ],
      "metadata": {
        "id": "5ZMq98HU29-U"
      }
    },
    {
      "cell_type": "code",
      "source": [
        "changable=tf.Variable([11,7])\n",
        "unchangable=tf.constant([11,7])\n",
        "changable, unchangable "
      ],
      "metadata": {
        "colab": {
          "base_uri": "https://localhost:8080/"
        },
        "id": "hoO6WH-T3JFk",
        "outputId": "b75af571-7630-40b9-ca46-686ff2b9d015"
      },
      "execution_count": 35,
      "outputs": [
        {
          "output_type": "execute_result",
          "data": {
            "text/plain": [
              "(<tf.Variable 'Variable:0' shape=(2,) dtype=int32, numpy=array([11,  7], dtype=int32)>,\n",
              " <tf.Tensor: shape=(2,), dtype=int32, numpy=array([11,  7], dtype=int32)>)"
            ]
          },
          "metadata": {},
          "execution_count": 35
        }
      ]
    },
    {
      "cell_type": "code",
      "source": [
        "tia=tf.constant([12,221])\n",
        "tia"
      ],
      "metadata": {
        "colab": {
          "base_uri": "https://localhost:8080/"
        },
        "id": "pVYqhmJv4_R8",
        "outputId": "61d131de-1357-4a83-927e-cb476ae316d4"
      },
      "execution_count": 16,
      "outputs": [
        {
          "output_type": "execute_result",
          "data": {
            "text/plain": [
              "<tf.Tensor: shape=(2,), dtype=int32, numpy=array([ 12, 221], dtype=int32)>"
            ]
          },
          "metadata": {},
          "execution_count": 16
        }
      ]
    },
    {
      "cell_type": "code",
      "source": [
        "changable[0].assign(9)"
      ],
      "metadata": {
        "colab": {
          "base_uri": "https://localhost:8080/"
        },
        "id": "VBqmDZ857oSH",
        "outputId": "1e54add8-5833-4927-fd96-693e7b54ffc6"
      },
      "execution_count": 17,
      "outputs": [
        {
          "output_type": "execute_result",
          "data": {
            "text/plain": [
              "<tf.Variable 'UnreadVariable' shape=(2,) dtype=int32, numpy=array([9, 7], dtype=int32)>"
            ]
          },
          "metadata": {},
          "execution_count": 17
        }
      ]
    },
    {
      "cell_type": "code",
      "source": [
        "rnd1=tf.random.Generator.from_seed(34)\n",
        "rnd1=rnd1.normal(shape=(3,4))\n",
        "rnd2=tf.random.Generator.from_seed(34)\n",
        "rnd2=rnd2.normal(shape=(3,4))\n",
        "rnd1, rnd2, rnd1==rnd2, rnd1[1]==rnd2[1]"
      ],
      "metadata": {
        "colab": {
          "base_uri": "https://localhost:8080/"
        },
        "id": "-LrolJKq_H1D",
        "outputId": "e8865634-a93d-4d6e-90f2-f182d58c96d0"
      },
      "execution_count": 18,
      "outputs": [
        {
          "output_type": "execute_result",
          "data": {
            "text/plain": [
              "(<tf.Tensor: shape=(3, 4), dtype=float32, numpy=\n",
              " array([[-1.5181769 ,  1.4020647 ,  1.5570306 , -0.96762174],\n",
              "        [ 0.495291  , -0.648484  , -1.8700892 ,  2.7830641 ],\n",
              "        [-0.645002  ,  0.18022095, -0.14656258,  0.34374258]],\n",
              "       dtype=float32)>, <tf.Tensor: shape=(3, 4), dtype=float32, numpy=\n",
              " array([[-1.5181769 ,  1.4020647 ,  1.5570306 , -0.96762174],\n",
              "        [ 0.495291  , -0.648484  , -1.8700892 ,  2.7830641 ],\n",
              "        [-0.645002  ,  0.18022095, -0.14656258,  0.34374258]],\n",
              "       dtype=float32)>, <tf.Tensor: shape=(3, 4), dtype=bool, numpy=\n",
              " array([[ True,  True,  True,  True],\n",
              "        [ True,  True,  True,  True],\n",
              "        [ True,  True,  True,  True]])>, <tf.Tensor: shape=(4,), dtype=bool, numpy=array([ True,  True,  True,  True])>)"
            ]
          },
          "metadata": {},
          "execution_count": 18
        }
      ]
    },
    {
      "cell_type": "code",
      "source": [
        "rnd1[0]"
      ],
      "metadata": {
        "colab": {
          "base_uri": "https://localhost:8080/"
        },
        "id": "ihRDdjATH6Jb",
        "outputId": "2dcee270-58f4-44bb-8366-51241df50eb7"
      },
      "execution_count": 19,
      "outputs": [
        {
          "output_type": "execute_result",
          "data": {
            "text/plain": [
              "<tf.Tensor: shape=(4,), dtype=float32, numpy=array([-1.5181769 ,  1.4020647 ,  1.5570306 , -0.96762174], dtype=float32)>"
            ]
          },
          "metadata": {},
          "execution_count": 19
        }
      ]
    },
    {
      "cell_type": "code",
      "source": [
        ""
      ],
      "metadata": {
        "id": "bouU8yV1H_kE"
      },
      "execution_count": 19,
      "outputs": []
    },
    {
      "cell_type": "code",
      "source": [
        "tobeshuffle=tf.constant([[1,2],\n",
        "                        [34,7],\n",
        "                        [5,78]])\n",
        "tobeshuffle.ndim, tobeshuffle"
      ],
      "metadata": {
        "colab": {
          "base_uri": "https://localhost:8080/"
        },
        "id": "Qc_5vsccQTqM",
        "outputId": "54a4f00f-2447-427d-8b2f-70cfaa02bb9c"
      },
      "execution_count": 4,
      "outputs": [
        {
          "output_type": "execute_result",
          "data": {
            "text/plain": [
              "(2, <tf.Tensor: shape=(3, 2), dtype=int32, numpy=\n",
              " array([[ 1,  2],\n",
              "        [34,  7],\n",
              "        [ 5, 78]], dtype=int32)>)"
            ]
          },
          "metadata": {},
          "execution_count": 4
        }
      ]
    },
    {
      "cell_type": "code",
      "source": [
        "tf.random.shuffle(tobeshuffle)"
      ],
      "metadata": {
        "colab": {
          "base_uri": "https://localhost:8080/"
        },
        "id": "Hd-C4cG_QxDG",
        "outputId": "be0617d9-5e9b-4557-d90e-5bd1d7396057"
      },
      "execution_count": 21,
      "outputs": [
        {
          "output_type": "execute_result",
          "data": {
            "text/plain": [
              "<tf.Tensor: shape=(3, 2), dtype=int32, numpy=\n",
              "array([[ 5, 78],\n",
              "       [34,  7],\n",
              "       [ 1,  2]], dtype=int32)>"
            ]
          },
          "metadata": {},
          "execution_count": 21
        }
      ]
    },
    {
      "cell_type": "code",
      "source": [
        "tf.random.set_seed(42)\n",
        "we=tf.random.shuffle(tobeshuffle, seed=42)\n",
        "tf.random.set_seed(43)\n",
        "ve=tf.random.shuffle(tobeshuffle, seed=4)\n",
        "we,ve"
      ],
      "metadata": {
        "colab": {
          "base_uri": "https://localhost:8080/"
        },
        "id": "hrfuzM-BTYn1",
        "outputId": "dd3826f6-8f48-40f9-e978-5258de56b277"
      },
      "execution_count": 22,
      "outputs": [
        {
          "output_type": "execute_result",
          "data": {
            "text/plain": [
              "(<tf.Tensor: shape=(3, 2), dtype=int32, numpy=\n",
              " array([[ 1,  2],\n",
              "        [34,  7],\n",
              "        [ 5, 78]], dtype=int32)>, <tf.Tensor: shape=(3, 2), dtype=int32, numpy=\n",
              " array([[ 1,  2],\n",
              "        [34,  7],\n",
              "        [ 5, 78]], dtype=int32)>)"
            ]
          },
          "metadata": {},
          "execution_count": 22
        }
      ]
    },
    {
      "cell_type": "code",
      "source": [
        "new1=tf.constant([[1,2,3],\n",
        "                 [23,2,3]])\n",
        "new1"
      ],
      "metadata": {
        "colab": {
          "base_uri": "https://localhost:8080/"
        },
        "id": "shGeJe5oMIio",
        "outputId": "2c302f3c-0f6d-43ae-b2b5-0b786629ca71"
      },
      "execution_count": 23,
      "outputs": [
        {
          "output_type": "execute_result",
          "data": {
            "text/plain": [
              "<tf.Tensor: shape=(2, 3), dtype=int32, numpy=\n",
              "array([[ 1,  2,  3],\n",
              "       [23,  2,  3]], dtype=int32)>"
            ]
          },
          "metadata": {},
          "execution_count": 23
        }
      ]
    },
    {
      "cell_type": "code",
      "source": [
        "new2=tf.random.Generator.from_seed(23)\n",
        "new2=new2.uniform(shape=(5,6))\n",
        "new2"
      ],
      "metadata": {
        "colab": {
          "base_uri": "https://localhost:8080/"
        },
        "id": "GG6BG0Z1M6EA",
        "outputId": "afd60175-07fa-4a1d-a82d-793d4cd4dfb1"
      },
      "execution_count": 24,
      "outputs": [
        {
          "output_type": "execute_result",
          "data": {
            "text/plain": [
              "<tf.Tensor: shape=(5, 6), dtype=float32, numpy=\n",
              "array([[0.9925091 , 0.20401764, 0.26398885, 0.79402816, 0.71974635,\n",
              "        0.47845697],\n",
              "       [0.21366036, 0.78412795, 0.93207085, 0.5625777 , 0.47580373,\n",
              "        0.30543637],\n",
              "       [0.5387846 , 0.06375635, 0.634938  , 0.6435729 , 0.3422103 ,\n",
              "        0.8459996 ],\n",
              "       [0.21559799, 0.10748649, 0.1337657 , 0.95617914, 0.6482675 ,\n",
              "        0.55495536],\n",
              "       [0.02367401, 0.74084485, 0.35598373, 0.29914415, 0.6900625 ,\n",
              "        0.21108961]], dtype=float32)>"
            ]
          },
          "metadata": {},
          "execution_count": 24
        }
      ]
    },
    {
      "cell_type": "code",
      "source": [
        "tf.random.set_seed(90)\n",
        "new3=tf.random.shuffle(new2,seed=23)\n",
        "new3"
      ],
      "metadata": {
        "colab": {
          "base_uri": "https://localhost:8080/"
        },
        "id": "qNdrdCjfNgUU",
        "outputId": "bd556c98-bbaa-4b60-a752-cf94c003c29d"
      },
      "execution_count": 25,
      "outputs": [
        {
          "output_type": "execute_result",
          "data": {
            "text/plain": [
              "<tf.Tensor: shape=(5, 6), dtype=float32, numpy=\n",
              "array([[0.02367401, 0.74084485, 0.35598373, 0.29914415, 0.6900625 ,\n",
              "        0.21108961],\n",
              "       [0.5387846 , 0.06375635, 0.634938  , 0.6435729 , 0.3422103 ,\n",
              "        0.8459996 ],\n",
              "       [0.21366036, 0.78412795, 0.93207085, 0.5625777 , 0.47580373,\n",
              "        0.30543637],\n",
              "       [0.9925091 , 0.20401764, 0.26398885, 0.79402816, 0.71974635,\n",
              "        0.47845697],\n",
              "       [0.21559799, 0.10748649, 0.1337657 , 0.95617914, 0.6482675 ,\n",
              "        0.55495536]], dtype=float32)>"
            ]
          },
          "metadata": {},
          "execution_count": 25
        }
      ]
    },
    {
      "cell_type": "code",
      "source": [
        "tf.ones([4,5])\n"
      ],
      "metadata": {
        "colab": {
          "base_uri": "https://localhost:8080/"
        },
        "id": "M9UJXeP-OByy",
        "outputId": "8906edc5-6cfe-472f-825a-530511bc89ef"
      },
      "execution_count": 26,
      "outputs": [
        {
          "output_type": "execute_result",
          "data": {
            "text/plain": [
              "<tf.Tensor: shape=(4, 5), dtype=float32, numpy=\n",
              "array([[1., 1., 1., 1., 1.],\n",
              "       [1., 1., 1., 1., 1.],\n",
              "       [1., 1., 1., 1., 1.],\n",
              "       [1., 1., 1., 1., 1.]], dtype=float32)>"
            ]
          },
          "metadata": {},
          "execution_count": 26
        }
      ]
    },
    {
      "cell_type": "code",
      "source": [
        "tf.ones([3,4], tf.float16)"
      ],
      "metadata": {
        "colab": {
          "base_uri": "https://localhost:8080/"
        },
        "id": "fjyfP0SxPjbj",
        "outputId": "bbd3d4fb-1b4b-4566-b414-6ffb75dcc409"
      },
      "execution_count": 27,
      "outputs": [
        {
          "output_type": "execute_result",
          "data": {
            "text/plain": [
              "<tf.Tensor: shape=(3, 4), dtype=float16, numpy=\n",
              "array([[1., 1., 1., 1.],\n",
              "       [1., 1., 1., 1.],\n",
              "       [1., 1., 1., 1.]], dtype=float16)>"
            ]
          },
          "metadata": {},
          "execution_count": 27
        }
      ]
    },
    {
      "cell_type": "code",
      "source": [
        "tf.zeros(shape=(3,4))\n"
      ],
      "metadata": {
        "colab": {
          "base_uri": "https://localhost:8080/"
        },
        "id": "hPXmq_dlUTmq",
        "outputId": "d9b8c107-9dbb-4f44-d8b7-4c957962d77a"
      },
      "execution_count": 28,
      "outputs": [
        {
          "output_type": "execute_result",
          "data": {
            "text/plain": [
              "<tf.Tensor: shape=(3, 4), dtype=float32, numpy=\n",
              "array([[0., 0., 0., 0.],\n",
              "       [0., 0., 0., 0.],\n",
              "       [0., 0., 0., 0.]], dtype=float32)>"
            ]
          },
          "metadata": {},
          "execution_count": 28
        }
      ]
    },
    {
      "cell_type": "code",
      "source": [
        "import numpy as np"
      ],
      "metadata": {
        "id": "zcuKLmIjo0Vg"
      },
      "execution_count": 5,
      "outputs": []
    },
    {
      "cell_type": "code",
      "source": [
        "X=tf.constant([3,\n",
        "               3])\n",
        "X"
      ],
      "metadata": {
        "colab": {
          "base_uri": "https://localhost:8080/"
        },
        "id": "sFMJo9lko3E0",
        "outputId": "3c806f08-b885-4f93-e042-bc67827e0823"
      },
      "execution_count": 30,
      "outputs": [
        {
          "output_type": "execute_result",
          "data": {
            "text/plain": [
              "<tf.Tensor: shape=(2,), dtype=int32, numpy=array([3, 3], dtype=int32)>"
            ]
          },
          "metadata": {},
          "execution_count": 30
        }
      ]
    },
    {
      "cell_type": "code",
      "source": [
        "numpy_A=np.arange(1,25, dtype=np.int16)\n",
        "numpy_A"
      ],
      "metadata": {
        "colab": {
          "base_uri": "https://localhost:8080/"
        },
        "id": "DmCuU3Hio-MA",
        "outputId": "65df1ef3-d258-4d70-d72f-ba00dbe7086a"
      },
      "execution_count": 31,
      "outputs": [
        {
          "output_type": "execute_result",
          "data": {
            "text/plain": [
              "array([ 1,  2,  3,  4,  5,  6,  7,  8,  9, 10, 11, 12, 13, 14, 15, 16, 17,\n",
              "       18, 19, 20, 21, 22, 23, 24], dtype=int16)"
            ]
          },
          "metadata": {},
          "execution_count": 31
        }
      ]
    },
    {
      "cell_type": "code",
      "source": [
        "A=tf.constant(numpy_A, shape=(2,3,4))\n",
        "A"
      ],
      "metadata": {
        "colab": {
          "base_uri": "https://localhost:8080/"
        },
        "id": "Z5Cab3psr3k7",
        "outputId": "ba7a1acf-db1f-49c5-9220-23946d71084d"
      },
      "execution_count": 32,
      "outputs": [
        {
          "output_type": "execute_result",
          "data": {
            "text/plain": [
              "<tf.Tensor: shape=(2, 3, 4), dtype=int16, numpy=\n",
              "array([[[ 1,  2,  3,  4],\n",
              "        [ 5,  6,  7,  8],\n",
              "        [ 9, 10, 11, 12]],\n",
              "\n",
              "       [[13, 14, 15, 16],\n",
              "        [17, 18, 19, 20],\n",
              "        [21, 22, 23, 24]]], dtype=int16)>"
            ]
          },
          "metadata": {},
          "execution_count": 32
        }
      ]
    },
    {
      "cell_type": "code",
      "source": [
        "b=np(A)\n",
        "b"
      ],
      "metadata": {
        "colab": {
          "base_uri": "https://localhost:8080/",
          "height": 183
        },
        "id": "F1LM-ibDsEbQ",
        "outputId": "8ddbb2dc-3217-4a0f-f22e-6f0f42edf0a0"
      },
      "execution_count": 34,
      "outputs": [
        {
          "output_type": "error",
          "ename": "TypeError",
          "evalue": "ignored",
          "traceback": [
            "\u001b[0;31m---------------------------------------------------------------------------\u001b[0m",
            "\u001b[0;31mTypeError\u001b[0m                                 Traceback (most recent call last)",
            "\u001b[0;32m<ipython-input-34-6fc15be79980>\u001b[0m in \u001b[0;36m<module>\u001b[0;34m()\u001b[0m\n\u001b[0;32m----> 1\u001b[0;31m \u001b[0mb\u001b[0m\u001b[0;34m=\u001b[0m\u001b[0mnp\u001b[0m\u001b[0;34m(\u001b[0m\u001b[0mA\u001b[0m\u001b[0;34m)\u001b[0m\u001b[0;34m\u001b[0m\u001b[0;34m\u001b[0m\u001b[0m\n\u001b[0m\u001b[1;32m      2\u001b[0m \u001b[0mb\u001b[0m\u001b[0;34m\u001b[0m\u001b[0;34m\u001b[0m\u001b[0m\n",
            "\u001b[0;31mTypeError\u001b[0m: 'module' object is not callable"
          ]
        }
      ]
    },
    {
      "cell_type": "code",
      "source": [
        "Tt=tf.constant([[1,1],\n",
        "               [2,2]])\n",
        "Tt.ndim\n",
        "tf.size(Tt)"
      ],
      "metadata": {
        "id": "IuZwUXABvGuj"
      },
      "execution_count": null,
      "outputs": []
    },
    {
      "cell_type": "code",
      "source": [
        "Rank4_dim=tf.zeros([2,3,4,5])\n",
        "Rank4_dim"
      ],
      "metadata": {
        "id": "aqR2eWp4wSqx"
      },
      "execution_count": null,
      "outputs": []
    },
    {
      "cell_type": "code",
      "source": [
        "Rank4_dim[0]"
      ],
      "metadata": {
        "id": "qC2GMUMTxAjN"
      },
      "execution_count": null,
      "outputs": []
    },
    {
      "cell_type": "code",
      "source": [
        "Rank4_dim[1]"
      ],
      "metadata": {
        "id": "HvApzwjuxGMh"
      },
      "execution_count": null,
      "outputs": []
    },
    {
      "cell_type": "code",
      "source": [
        "Rank4_dim.ndim"
      ],
      "metadata": {
        "id": "fveGnBomxRRx"
      },
      "execution_count": null,
      "outputs": []
    },
    {
      "cell_type": "code",
      "source": [
        "#Rank4_dim[0],\n",
        "#Rank4_dim[1],\n",
        "#Rank4_dim[2],\n",
        "Rank4_dim[1,1,1,4]\n"
      ],
      "metadata": {
        "id": "hGiv-vZixYcj"
      },
      "execution_count": null,
      "outputs": []
    },
    {
      "cell_type": "code",
      "source": [
        "tf.size(Rank4_dim),tf.shape(Rank4_dim)"
      ],
      "metadata": {
        "id": "-PhBBdLi-43f"
      },
      "execution_count": null,
      "outputs": []
    },
    {
      "cell_type": "code",
      "source": [
        "Rank4_dim.shape"
      ],
      "metadata": {
        "id": "8S8uk32_ULyJ"
      },
      "execution_count": null,
      "outputs": []
    },
    {
      "cell_type": "code",
      "source": [
        "tf.shape(Rank4_dim)"
      ],
      "metadata": {
        "id": "dY-hkYmpURHN"
      },
      "execution_count": null,
      "outputs": []
    },
    {
      "cell_type": "code",
      "source": [
        "tf.size(Rank4_dim)"
      ],
      "metadata": {
        "id": "zSZtOqdLUjAy"
      },
      "execution_count": null,
      "outputs": []
    },
    {
      "cell_type": "code",
      "source": [
        "Txx=tf.constant([[[1,2,3,4],\n",
        "               [44,55,66,77],\n",
        "               [11,22,33,44]],\n",
        "               [[-11,-11,-22,0],\n",
        "                [-33,-22,-45,1],\n",
        "                [-90,-33,-5,2]]])\n",
        "Txx"
      ],
      "metadata": {
        "colab": {
          "base_uri": "https://localhost:8080/"
        },
        "id": "wrRIxEasVGGG",
        "outputId": "d3293d6f-d30c-4708-e37e-07dd451ad75b"
      },
      "execution_count": 38,
      "outputs": [
        {
          "output_type": "execute_result",
          "data": {
            "text/plain": [
              "<tf.Tensor: shape=(2, 3, 4), dtype=int32, numpy=\n",
              "array([[[  1,   2,   3,   4],\n",
              "        [ 44,  55,  66,  77],\n",
              "        [ 11,  22,  33,  44]],\n",
              "\n",
              "       [[-11, -11, -22,   0],\n",
              "        [-33, -22, -45,   1],\n",
              "        [-90, -33,  -5,   2]]], dtype=int32)>"
            ]
          },
          "metadata": {},
          "execution_count": 38
        }
      ]
    },
    {
      "cell_type": "code",
      "source": [
        "Txx[0,1:3,-1]"
      ],
      "metadata": {
        "colab": {
          "base_uri": "https://localhost:8080/"
        },
        "id": "yf5jNIaxlpI5",
        "outputId": "83e5cb24-4e7c-40bd-9979-361ed8a15ad0"
      },
      "execution_count": 42,
      "outputs": [
        {
          "output_type": "execute_result",
          "data": {
            "text/plain": [
              "<tf.Tensor: shape=(2,), dtype=int32, numpy=array([77, 44], dtype=int32)>"
            ]
          },
          "metadata": {},
          "execution_count": 42
        }
      ]
    },
    {
      "cell_type": "code",
      "source": [
        "print(\"data type of every elemt\", Txx.dtype)\n",
        "print(\"Rank of the Txx\", Txx.ndim)\n",
        "print(\"shape of Tensor\", Txx.shape)\n",
        "print(\"elemnt along the zero axix\", Txx.shape[0])\n",
        "print(\"elemnt along the last axis\", Txx.shape[-1])\n",
        "print(\"Total number of elemnt in out tensor\", tf.size(Txx))\n",
        "print(\"Total number of elemnt in out tensor\", tf.size(Txx).numpy())"
      ],
      "metadata": {
        "colab": {
          "base_uri": "https://localhost:8080/"
        },
        "id": "eP5S384HWqCp",
        "outputId": "a36f0924-bf60-4399-b9f2-52400458e7dd"
      },
      "execution_count": 40,
      "outputs": [
        {
          "output_type": "stream",
          "name": "stdout",
          "text": [
            "data type of every elemt <dtype: 'int32'>\n",
            "Rank of the Txx 3\n",
            "shape of Tensor (2, 3, 4)\n",
            "elemnt along the zero axix 2\n",
            "elemnt along the last axis 4\n",
            "Total number of elemnt in out tensor tf.Tensor(24, shape=(), dtype=int32)\n",
            "Total number of elemnt in out tensor 24\n"
          ]
        }
      ]
    },
    {
      "cell_type": "code",
      "source": [
        "Txx[:,1:3,-1]"
      ],
      "metadata": {
        "colab": {
          "base_uri": "https://localhost:8080/"
        },
        "id": "uANGaFR6hNQ_",
        "outputId": "bec63bee-1cc1-4e17-b4ff-07a58986c3d0"
      },
      "execution_count": 71,
      "outputs": [
        {
          "output_type": "execute_result",
          "data": {
            "text/plain": [
              "<tf.Tensor: shape=(2, 2), dtype=int32, numpy=\n",
              "array([[77, 44],\n",
              "       [ 1,  2]], dtype=int32)>"
            ]
          },
          "metadata": {},
          "execution_count": 71
        }
      ]
    },
    {
      "cell_type": "code",
      "source": [
        "Rk2=tf.constant([[10,7],\n",
        "                 [34,3]])\n",
        "Rk2.shape, Rk2.ndim, Rk2[:,1:2]"
      ],
      "metadata": {
        "colab": {
          "base_uri": "https://localhost:8080/"
        },
        "id": "8q4HheIgllxE",
        "outputId": "8f7c89ed-70ab-4ce4-f096-de6afd47dc9f"
      },
      "execution_count": 8,
      "outputs": [
        {
          "output_type": "execute_result",
          "data": {
            "text/plain": [
              "(TensorShape([2, 2]), 2, <tf.Tensor: shape=(2, 1), dtype=int32, numpy=\n",
              " array([[7],\n",
              "        [3]], dtype=int32)>)"
            ]
          },
          "metadata": {},
          "execution_count": 8
        }
      ]
    },
    {
      "cell_type": "code",
      "source": [
        "Rk3=Rk2[...,tf.newaxis]\n",
        "Rk3, Rk3.shape"
      ],
      "metadata": {
        "colab": {
          "base_uri": "https://localhost:8080/"
        },
        "id": "XNTf0jeunNod",
        "outputId": "dff38b36-0ad2-40ed-b718-35c4098346d4"
      },
      "execution_count": 54,
      "outputs": [
        {
          "output_type": "execute_result",
          "data": {
            "text/plain": [
              "(<tf.Tensor: shape=(2, 2, 1), dtype=int32, numpy=\n",
              " array([[[10],\n",
              "         [ 7]],\n",
              " \n",
              "        [[34],\n",
              "         [ 3]]], dtype=int32)>, TensorShape([2, 2, 1]))"
            ]
          },
          "metadata": {},
          "execution_count": 54
        }
      ]
    },
    {
      "cell_type": "code",
      "source": [
        "Rk2"
      ],
      "metadata": {
        "colab": {
          "base_uri": "https://localhost:8080/"
        },
        "id": "UjR3hHHfrHHs",
        "outputId": "509168f0-d04f-45d2-8cea-e97feb648dce"
      },
      "execution_count": 23,
      "outputs": [
        {
          "output_type": "execute_result",
          "data": {
            "text/plain": [
              "<tf.Tensor: shape=(2, 2), dtype=int32, numpy=\n",
              "array([[10,  7],\n",
              "       [34,  3]], dtype=int32)>"
            ]
          },
          "metadata": {},
          "execution_count": 23
        }
      ]
    },
    {
      "cell_type": "code",
      "source": [
        "Rk4=Rk2[:,tf.newaxis]\n",
        "Rk4"
      ],
      "metadata": {
        "colab": {
          "base_uri": "https://localhost:8080/"
        },
        "id": "Kh6Up1pUrVjb",
        "outputId": "b45673aa-b272-4cac-a1ea-8135d4068a22"
      },
      "execution_count": 56,
      "outputs": [
        {
          "output_type": "execute_result",
          "data": {
            "text/plain": [
              "<tf.Tensor: shape=(2, 1, 2), dtype=int32, numpy=\n",
              "array([[[10,  7]],\n",
              "\n",
              "       [[34,  3]]], dtype=int32)>"
            ]
          },
          "metadata": {},
          "execution_count": 56
        }
      ]
    },
    {
      "cell_type": "code",
      "source": [
        "Rk5=tf.expand_dims(Rk2, axis=1)\n",
        "Rk5"
      ],
      "metadata": {
        "colab": {
          "base_uri": "https://localhost:8080/"
        },
        "id": "y59kRwspsKSI",
        "outputId": "a7d3f63d-d079-49d3-def6-0b91a5be1d42"
      },
      "execution_count": 58,
      "outputs": [
        {
          "output_type": "execute_result",
          "data": {
            "text/plain": [
              "<tf.Tensor: shape=(2, 1, 2), dtype=int32, numpy=\n",
              "array([[[10,  7]],\n",
              "\n",
              "       [[34,  3]]], dtype=int32)>"
            ]
          },
          "metadata": {},
          "execution_count": 58
        }
      ]
    },
    {
      "cell_type": "code",
      "source": [
        "tf.multiply(Rk2,10)"
      ],
      "metadata": {
        "colab": {
          "base_uri": "https://localhost:8080/"
        },
        "id": "MYAAY-tr5tnR",
        "outputId": "af085ef6-422b-41b3-81dd-e42ec1a17227"
      },
      "execution_count": 9,
      "outputs": [
        {
          "output_type": "execute_result",
          "data": {
            "text/plain": [
              "<tf.Tensor: shape=(2, 2), dtype=int32, numpy=\n",
              "array([[100,  70],\n",
              "       [340,  30]], dtype=int32)>"
            ]
          },
          "metadata": {},
          "execution_count": 9
        }
      ]
    },
    {
      "cell_type": "code",
      "source": [
        "\n",
        "tf.matmul(Rk2,Rk2), Rk2\n"
      ],
      "metadata": {
        "colab": {
          "base_uri": "https://localhost:8080/"
        },
        "id": "SUoFNKZHBu_S",
        "outputId": "ea23137e-d19b-4605-c896-7c4278876329"
      },
      "execution_count": 13,
      "outputs": [
        {
          "output_type": "execute_result",
          "data": {
            "text/plain": [
              "(<tf.Tensor: shape=(2, 2), dtype=int32, numpy=\n",
              " array([[338,  91],\n",
              "        [442, 247]], dtype=int32)>,\n",
              " <tf.Tensor: shape=(2, 2), dtype=int32, numpy=\n",
              " array([[10,  7],\n",
              "        [34,  3]], dtype=int32)>)"
            ]
          },
          "metadata": {},
          "execution_count": 13
        }
      ]
    },
    {
      "cell_type": "code",
      "source": [
        "Rk2@Rk2"
      ],
      "metadata": {
        "colab": {
          "base_uri": "https://localhost:8080/"
        },
        "id": "ON3mZ2mWH31C",
        "outputId": "8bff69b9-9b26-48bf-827a-06fd81ab02d6"
      },
      "execution_count": 14,
      "outputs": [
        {
          "output_type": "execute_result",
          "data": {
            "text/plain": [
              "<tf.Tensor: shape=(2, 2), dtype=int32, numpy=\n",
              "array([[338,  91],\n",
              "       [442, 247]], dtype=int32)>"
            ]
          },
          "metadata": {},
          "execution_count": 14
        }
      ]
    },
    {
      "cell_type": "code",
      "source": [
        "Rk32=tf.constant([[2,3],\n",
        "                 [6,7],\n",
        "                  [4,5]])\n",
        "tf.reshape(Rk32, shape=(2,3)), Rk32, Rk2@tf.reshape(Rk32, shape=(2,3))\n"
      ],
      "metadata": {
        "colab": {
          "base_uri": "https://localhost:8080/"
        },
        "id": "HofaJpBjLUJ-",
        "outputId": "504d92a2-5cca-4480-bc89-c4dcb94d0992"
      },
      "execution_count": 19,
      "outputs": [
        {
          "output_type": "execute_result",
          "data": {
            "text/plain": [
              "(<tf.Tensor: shape=(2, 3), dtype=int32, numpy=\n",
              " array([[2, 3, 6],\n",
              "        [7, 4, 5]], dtype=int32)>,\n",
              " <tf.Tensor: shape=(3, 2), dtype=int32, numpy=\n",
              " array([[2, 3],\n",
              "        [6, 7],\n",
              "        [4, 5]], dtype=int32)>,\n",
              " <tf.Tensor: shape=(2, 3), dtype=int32, numpy=\n",
              " array([[ 69,  58,  95],\n",
              "        [ 89, 114, 219]], dtype=int32)>)"
            ]
          },
          "metadata": {},
          "execution_count": 19
        }
      ]
    },
    {
      "cell_type": "code",
      "source": [
        "tf.transpose(Rk32)"
      ],
      "metadata": {
        "colab": {
          "base_uri": "https://localhost:8080/"
        },
        "id": "AQ6cZfrXMls2",
        "outputId": "bee24eb8-962a-4485-f5f3-eee058651861"
      },
      "execution_count": 20,
      "outputs": [
        {
          "output_type": "execute_result",
          "data": {
            "text/plain": [
              "<tf.Tensor: shape=(2, 3), dtype=int32, numpy=\n",
              "array([[2, 6, 4],\n",
              "       [3, 7, 5]], dtype=int32)>"
            ]
          },
          "metadata": {},
          "execution_count": 20
        }
      ]
    },
    {
      "cell_type": "code",
      "source": [
        "Rk2@tf.transpose(Rk32)"
      ],
      "metadata": {
        "colab": {
          "base_uri": "https://localhost:8080/"
        },
        "id": "AxLQeKxnMuFd",
        "outputId": "8fce899c-717e-49f6-93f7-f8a7d53eef2a"
      },
      "execution_count": 21,
      "outputs": [
        {
          "output_type": "execute_result",
          "data": {
            "text/plain": [
              "<tf.Tensor: shape=(2, 3), dtype=int32, numpy=\n",
              "array([[ 41, 109,  75],\n",
              "       [ 77, 225, 151]], dtype=int32)>"
            ]
          },
          "metadata": {},
          "execution_count": 21
        }
      ]
    },
    {
      "cell_type": "code",
      "source": [
        "print(tf.reshape(Rk2, shape=(1,4)))\n",
        "print(tf.reshape(Rk2, shape=(1,4)))"
      ],
      "metadata": {
        "colab": {
          "base_uri": "https://localhost:8080/"
        },
        "id": "pqC7aKDZaDlp",
        "outputId": "a0041b0b-bc13-4513-8696-c338fe8423d5"
      },
      "execution_count": 29,
      "outputs": [
        {
          "output_type": "stream",
          "name": "stdout",
          "text": [
            "tf.Tensor([[10  7 34  3]], shape=(1, 4), dtype=int32)\n",
            "tf.Tensor([[10  7 34  3]], shape=(1, 4), dtype=int32)\n"
          ]
        }
      ]
    },
    {
      "cell_type": "code",
      "source": [
        "Rk2=tf.cast(Rk2, dtype=tf.bfloat16)\n",
        "Rk2"
      ],
      "metadata": {
        "colab": {
          "base_uri": "https://localhost:8080/"
        },
        "id": "kt-m7MKCgJrH",
        "outputId": "2ea14f86-b0f7-4837-833c-717d072c335d"
      },
      "execution_count": 31,
      "outputs": [
        {
          "output_type": "execute_result",
          "data": {
            "text/plain": [
              "<tf.Tensor: shape=(2, 2), dtype=bfloat16, numpy=\n",
              "array([[10, 7],\n",
              "       [34, 3]], dtype=bfloat16)>"
            ]
          },
          "metadata": {},
          "execution_count": 31
        }
      ]
    }
  ]
}