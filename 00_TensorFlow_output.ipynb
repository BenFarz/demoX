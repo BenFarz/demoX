{
  "nbformat": 4,
  "nbformat_minor": 0,
  "metadata": {
    "colab": {
      "name": "00_TensorFlow_output.ipynb",
      "provenance": [],
      "collapsed_sections": [],
      "authorship_tag": "ABX9TyPNJQ5jTunJMwqqcmhl25FP",
      "include_colab_link": true
    },
    "kernelspec": {
      "name": "python3",
      "display_name": "Python 3"
    },
    "language_info": {
      "name": "python"
    }
  },
  "cells": [
    {
      "cell_type": "markdown",
      "metadata": {
        "id": "view-in-github",
        "colab_type": "text"
      },
      "source": [
        "<a href=\"https://colab.research.google.com/github/BenFarz/demoX/blob/main/00_TensorFlow_output.ipynb\" target=\"_parent\"><img src=\"https://colab.research.google.com/assets/colab-badge.svg\" alt=\"Open In Colab\"/></a>"
      ]
    },
    {
      "cell_type": "code",
      "execution_count": 2,
      "metadata": {
        "id": "akp-6qZENIR7"
      },
      "outputs": [],
      "source": [
        "# This is my review of previous learning\n"
      ]
    },
    {
      "cell_type": "code",
      "source": [
        "import tensorflow as tf\n",
        "print(tf.__version__)"
      ],
      "metadata": {
        "colab": {
          "base_uri": "https://localhost:8080/"
        },
        "id": "iMYBsCQbOtnf",
        "outputId": "3cdce116-7786-4e0b-a569-fe57e7151260"
      },
      "execution_count": 1,
      "outputs": [
        {
          "output_type": "stream",
          "name": "stdout",
          "text": [
            "2.8.2\n"
          ]
        }
      ]
    },
    {
      "cell_type": "code",
      "source": [
        "ixix=tf.constant(7)\n",
        "ixix"
      ],
      "metadata": {
        "colab": {
          "base_uri": "https://localhost:8080/"
        },
        "id": "TQt2zoBOQBoO",
        "outputId": "754eb42b-991b-40d3-acef-289dd3b0c94b"
      },
      "execution_count": 2,
      "outputs": [
        {
          "output_type": "execute_result",
          "data": {
            "text/plain": [
              "<tf.Tensor: shape=(), dtype=int32, numpy=7>"
            ]
          },
          "metadata": {},
          "execution_count": 2
        }
      ]
    },
    {
      "cell_type": "code",
      "source": [
        "ixix.ndim"
      ],
      "metadata": {
        "colab": {
          "base_uri": "https://localhost:8080/"
        },
        "id": "xj5zv6T7RlGh",
        "outputId": "34d678c1-f59e-417c-f798-c86e5ce6e1f1"
      },
      "execution_count": 4,
      "outputs": [
        {
          "output_type": "execute_result",
          "data": {
            "text/plain": [
              "0"
            ]
          },
          "metadata": {},
          "execution_count": 4
        }
      ]
    },
    {
      "cell_type": "code",
      "source": [
        "vector=tf.constant([4,3])\n",
        "vector"
      ],
      "metadata": {
        "colab": {
          "base_uri": "https://localhost:8080/"
        },
        "id": "u75lSn7iR5DF",
        "outputId": "efbad012-b34f-4049-d780-53ad1e11494b"
      },
      "execution_count": 5,
      "outputs": [
        {
          "output_type": "execute_result",
          "data": {
            "text/plain": [
              "<tf.Tensor: shape=(2,), dtype=int32, numpy=array([4, 3], dtype=int32)>"
            ]
          },
          "metadata": {},
          "execution_count": 5
        }
      ]
    },
    {
      "cell_type": "code",
      "source": [
        "vector.ndim\n"
      ],
      "metadata": {
        "colab": {
          "base_uri": "https://localhost:8080/"
        },
        "id": "2xXMK71-STKV",
        "outputId": "58c3bc3b-89f9-46e9-d32a-ba43f96078e8"
      },
      "execution_count": 6,
      "outputs": [
        {
          "output_type": "execute_result",
          "data": {
            "text/plain": [
              "1"
            ]
          },
          "metadata": {},
          "execution_count": 6
        }
      ]
    },
    {
      "cell_type": "code",
      "source": [
        "mtx=tf.constant([[10,7],\n",
        "                [7,10]])\n",
        "mtx"
      ],
      "metadata": {
        "colab": {
          "base_uri": "https://localhost:8080/"
        },
        "id": "TkBtlY-DSgH3",
        "outputId": "1ab560e4-f0e8-4727-f2ef-e3f0b7b54b32"
      },
      "execution_count": 7,
      "outputs": [
        {
          "output_type": "execute_result",
          "data": {
            "text/plain": [
              "<tf.Tensor: shape=(2, 2), dtype=int32, numpy=\n",
              "array([[10,  7],\n",
              "       [ 7, 10]], dtype=int32)>"
            ]
          },
          "metadata": {},
          "execution_count": 7
        }
      ]
    },
    {
      "cell_type": "code",
      "source": [
        "mtx"
      ],
      "metadata": {
        "colab": {
          "base_uri": "https://localhost:8080/"
        },
        "id": "amsMBZ75TByL",
        "outputId": "401b9483-f93f-4ed4-c4cd-bdd5e2af546e"
      },
      "execution_count": 8,
      "outputs": [
        {
          "output_type": "execute_result",
          "data": {
            "text/plain": [
              "<tf.Tensor: shape=(2, 2), dtype=int32, numpy=\n",
              "array([[10,  7],\n",
              "       [ 7, 10]], dtype=int32)>"
            ]
          },
          "metadata": {},
          "execution_count": 8
        }
      ]
    },
    {
      "cell_type": "code",
      "source": [
        "mtx.ndim"
      ],
      "metadata": {
        "colab": {
          "base_uri": "https://localhost:8080/"
        },
        "id": "_0l-FYc7TFaw",
        "outputId": "5fe560f3-427f-48b2-a640-616748485c1f"
      },
      "execution_count": 9,
      "outputs": [
        {
          "output_type": "execute_result",
          "data": {
            "text/plain": [
              "2"
            ]
          },
          "metadata": {},
          "execution_count": 9
        }
      ]
    },
    {
      "cell_type": "code",
      "source": [
        "mtx2=tf.constant([[1.,3.],\n",
        "                  [34.,43.],\n",
        "                  [2.,3.]], dtype=tf.float16)\n",
        "mtx2"
      ],
      "metadata": {
        "colab": {
          "base_uri": "https://localhost:8080/"
        },
        "id": "MeRlXJRKTVBP",
        "outputId": "aa1b927c-7383-456f-d642-b0b19abfcaab"
      },
      "execution_count": 10,
      "outputs": [
        {
          "output_type": "execute_result",
          "data": {
            "text/plain": [
              "<tf.Tensor: shape=(3, 2), dtype=float16, numpy=\n",
              "array([[ 1.,  3.],\n",
              "       [34., 43.],\n",
              "       [ 2.,  3.]], dtype=float16)>"
            ]
          },
          "metadata": {},
          "execution_count": 10
        }
      ]
    },
    {
      "cell_type": "code",
      "source": [
        "mtx2.ndim"
      ],
      "metadata": {
        "colab": {
          "base_uri": "https://localhost:8080/"
        },
        "id": "Yq2JYh2dU5hW",
        "outputId": "56623e25-0276-4945-d059-455bfbaefde4"
      },
      "execution_count": 11,
      "outputs": [
        {
          "output_type": "execute_result",
          "data": {
            "text/plain": [
              "2"
            ]
          },
          "metadata": {},
          "execution_count": 11
        }
      ]
    },
    {
      "cell_type": "code",
      "source": [
        "mtx3=tf.constant([[[3.,56.,76.],\n",
        "                   [34.,43.,4.]],\n",
        "                  [[2.,3.,4.],\n",
        "                   [23.,32.,22.]],\n",
        "                  [[28.,11.,22.],\n",
        "                   [43.,56.,76.]]])\n",
        "mtx3"
      ],
      "metadata": {
        "colab": {
          "base_uri": "https://localhost:8080/"
        },
        "id": "Az3zKuVJVkgO",
        "outputId": "e34e49e8-277b-489d-f981-7ea44522271a"
      },
      "execution_count": 12,
      "outputs": [
        {
          "output_type": "execute_result",
          "data": {
            "text/plain": [
              "<tf.Tensor: shape=(3, 2, 3), dtype=float32, numpy=\n",
              "array([[[ 3., 56., 76.],\n",
              "        [34., 43.,  4.]],\n",
              "\n",
              "       [[ 2.,  3.,  4.],\n",
              "        [23., 32., 22.]],\n",
              "\n",
              "       [[28., 11., 22.],\n",
              "        [43., 56., 76.]]], dtype=float32)>"
            ]
          },
          "metadata": {},
          "execution_count": 12
        }
      ]
    },
    {
      "cell_type": "code",
      "source": [
        "mtx3.ndim"
      ],
      "metadata": {
        "colab": {
          "base_uri": "https://localhost:8080/"
        },
        "id": "HDxaYn8cWmT_",
        "outputId": "0ba2ed94-0f75-4fcb-91e6-f4a635a2a981"
      },
      "execution_count": 13,
      "outputs": [
        {
          "output_type": "execute_result",
          "data": {
            "text/plain": [
              "3"
            ]
          },
          "metadata": {},
          "execution_count": 13
        }
      ]
    },
    {
      "cell_type": "markdown",
      "source": [
        "# second trains of 'tf.variable'"
      ],
      "metadata": {
        "id": "5ZMq98HU29-U"
      }
    },
    {
      "cell_type": "code",
      "source": [
        "changable=tf.Variable([11,7])\n",
        "unchangable=tf.constant([11,7])\n",
        "changable, unchangable "
      ],
      "metadata": {
        "colab": {
          "base_uri": "https://localhost:8080/"
        },
        "id": "hoO6WH-T3JFk",
        "outputId": "e9b00654-dfee-47fd-ee8e-050169ce918b"
      },
      "execution_count": 14,
      "outputs": [
        {
          "output_type": "execute_result",
          "data": {
            "text/plain": [
              "(<tf.Variable 'Variable:0' shape=(2,) dtype=int32, numpy=array([11,  7], dtype=int32)>,\n",
              " <tf.Tensor: shape=(2,), dtype=int32, numpy=array([11,  7], dtype=int32)>)"
            ]
          },
          "metadata": {},
          "execution_count": 14
        }
      ]
    },
    {
      "cell_type": "code",
      "source": [
        "tia=tf.constant([12,221])\n",
        "tia"
      ],
      "metadata": {
        "colab": {
          "base_uri": "https://localhost:8080/"
        },
        "id": "pVYqhmJv4_R8",
        "outputId": "f7591ec3-dfec-4e82-cd30-6791c6fcd80f"
      },
      "execution_count": 15,
      "outputs": [
        {
          "output_type": "execute_result",
          "data": {
            "text/plain": [
              "<tf.Tensor: shape=(2,), dtype=int32, numpy=array([ 12, 221], dtype=int32)>"
            ]
          },
          "metadata": {},
          "execution_count": 15
        }
      ]
    },
    {
      "cell_type": "code",
      "source": [
        "changable[0].assign(9)"
      ],
      "metadata": {
        "colab": {
          "base_uri": "https://localhost:8080/"
        },
        "id": "VBqmDZ857oSH",
        "outputId": "1f462733-e083-4e64-e70d-fcc93ce786de"
      },
      "execution_count": 16,
      "outputs": [
        {
          "output_type": "execute_result",
          "data": {
            "text/plain": [
              "<tf.Variable 'UnreadVariable' shape=(2,) dtype=int32, numpy=array([9, 7], dtype=int32)>"
            ]
          },
          "metadata": {},
          "execution_count": 16
        }
      ]
    },
    {
      "cell_type": "code",
      "source": [
        "rnd1=tf.random.Generator.from_seed(34)\n",
        "rnd1=rnd1.normal(shape=(3,4))\n",
        "rnd2=tf.random.Generator.from_seed(34)\n",
        "rnd2=rnd2.normal(shape=(3,4))\n",
        "rnd1, rnd2, rnd1==rnd2, rnd1[1]==rnd2[1]"
      ],
      "metadata": {
        "colab": {
          "base_uri": "https://localhost:8080/"
        },
        "id": "-LrolJKq_H1D",
        "outputId": "52c7718f-acc3-4e5d-806d-e7324a22c242"
      },
      "execution_count": 17,
      "outputs": [
        {
          "output_type": "execute_result",
          "data": {
            "text/plain": [
              "(<tf.Tensor: shape=(3, 4), dtype=float32, numpy=\n",
              " array([[-1.5181769 ,  1.4020647 ,  1.5570306 , -0.96762174],\n",
              "        [ 0.495291  , -0.648484  , -1.8700892 ,  2.7830641 ],\n",
              "        [-0.645002  ,  0.18022095, -0.14656258,  0.34374258]],\n",
              "       dtype=float32)>, <tf.Tensor: shape=(3, 4), dtype=float32, numpy=\n",
              " array([[-1.5181769 ,  1.4020647 ,  1.5570306 , -0.96762174],\n",
              "        [ 0.495291  , -0.648484  , -1.8700892 ,  2.7830641 ],\n",
              "        [-0.645002  ,  0.18022095, -0.14656258,  0.34374258]],\n",
              "       dtype=float32)>, <tf.Tensor: shape=(3, 4), dtype=bool, numpy=\n",
              " array([[ True,  True,  True,  True],\n",
              "        [ True,  True,  True,  True],\n",
              "        [ True,  True,  True,  True]])>, <tf.Tensor: shape=(4,), dtype=bool, numpy=array([ True,  True,  True,  True])>)"
            ]
          },
          "metadata": {},
          "execution_count": 17
        }
      ]
    },
    {
      "cell_type": "code",
      "source": [
        "rnd1[0]"
      ],
      "metadata": {
        "colab": {
          "base_uri": "https://localhost:8080/"
        },
        "id": "ihRDdjATH6Jb",
        "outputId": "1f169cf0-fe76-488f-f237-b52ee85a2c9c"
      },
      "execution_count": 18,
      "outputs": [
        {
          "output_type": "execute_result",
          "data": {
            "text/plain": [
              "<tf.Tensor: shape=(4,), dtype=float32, numpy=array([-1.5181769 ,  1.4020647 ,  1.5570306 , -0.96762174], dtype=float32)>"
            ]
          },
          "metadata": {},
          "execution_count": 18
        }
      ]
    },
    {
      "cell_type": "code",
      "source": [
        ""
      ],
      "metadata": {
        "id": "bouU8yV1H_kE"
      },
      "execution_count": 18,
      "outputs": []
    },
    {
      "cell_type": "code",
      "source": [
        "tobeshuffle=tf.constant([[1,2],\n",
        "                        [34,7],\n",
        "                        [5,78]])\n",
        "tobeshuffle.ndim, tobeshuffle"
      ],
      "metadata": {
        "colab": {
          "base_uri": "https://localhost:8080/"
        },
        "id": "Qc_5vsccQTqM",
        "outputId": "11f6d08b-0b7f-493f-c7ca-ae7dca1a9ceb"
      },
      "execution_count": 19,
      "outputs": [
        {
          "output_type": "execute_result",
          "data": {
            "text/plain": [
              "(2, <tf.Tensor: shape=(3, 2), dtype=int32, numpy=\n",
              " array([[ 1,  2],\n",
              "        [34,  7],\n",
              "        [ 5, 78]], dtype=int32)>)"
            ]
          },
          "metadata": {},
          "execution_count": 19
        }
      ]
    },
    {
      "cell_type": "code",
      "source": [
        "tf.random.shuffle(tobeshuffle)"
      ],
      "metadata": {
        "colab": {
          "base_uri": "https://localhost:8080/"
        },
        "id": "Hd-C4cG_QxDG",
        "outputId": "0b05af6d-3277-400f-90ea-2432ff745e14"
      },
      "execution_count": 20,
      "outputs": [
        {
          "output_type": "execute_result",
          "data": {
            "text/plain": [
              "<tf.Tensor: shape=(3, 2), dtype=int32, numpy=\n",
              "array([[ 1,  2],\n",
              "       [34,  7],\n",
              "       [ 5, 78]], dtype=int32)>"
            ]
          },
          "metadata": {},
          "execution_count": 20
        }
      ]
    },
    {
      "cell_type": "code",
      "source": [
        "tf.random.set_seed(42)\n",
        "we=tf.random.shuffle(tobeshuffle, seed=42)\n",
        "tf.random.set_seed(43)\n",
        "ve=tf.random.shuffle(tobeshuffle, seed=4)\n",
        "we,ve"
      ],
      "metadata": {
        "colab": {
          "base_uri": "https://localhost:8080/"
        },
        "id": "hrfuzM-BTYn1",
        "outputId": "1c1c1c80-6525-4f26-d446-abc061722ab5"
      },
      "execution_count": 21,
      "outputs": [
        {
          "output_type": "execute_result",
          "data": {
            "text/plain": [
              "(<tf.Tensor: shape=(3, 2), dtype=int32, numpy=\n",
              " array([[ 1,  2],\n",
              "        [34,  7],\n",
              "        [ 5, 78]], dtype=int32)>, <tf.Tensor: shape=(3, 2), dtype=int32, numpy=\n",
              " array([[ 1,  2],\n",
              "        [34,  7],\n",
              "        [ 5, 78]], dtype=int32)>)"
            ]
          },
          "metadata": {},
          "execution_count": 21
        }
      ]
    },
    {
      "cell_type": "code",
      "source": [
        "new1=tf.constant([[1,2,3],\n",
        "                 [23,2,3]])\n",
        "new1"
      ],
      "metadata": {
        "colab": {
          "base_uri": "https://localhost:8080/"
        },
        "id": "shGeJe5oMIio",
        "outputId": "e6f1b090-a04d-4120-ebc3-247108f734dd"
      },
      "execution_count": 22,
      "outputs": [
        {
          "output_type": "execute_result",
          "data": {
            "text/plain": [
              "<tf.Tensor: shape=(2, 3), dtype=int32, numpy=\n",
              "array([[ 1,  2,  3],\n",
              "       [23,  2,  3]], dtype=int32)>"
            ]
          },
          "metadata": {},
          "execution_count": 22
        }
      ]
    },
    {
      "cell_type": "code",
      "source": [
        "new2=tf.random.Generator.from_seed(23)\n",
        "new2=new2.uniform(shape=(5,6))\n",
        "new2"
      ],
      "metadata": {
        "colab": {
          "base_uri": "https://localhost:8080/"
        },
        "id": "GG6BG0Z1M6EA",
        "outputId": "c0446710-7208-4678-eeb6-04f17a22abbb"
      },
      "execution_count": 23,
      "outputs": [
        {
          "output_type": "execute_result",
          "data": {
            "text/plain": [
              "<tf.Tensor: shape=(5, 6), dtype=float32, numpy=\n",
              "array([[0.9925091 , 0.20401764, 0.26398885, 0.79402816, 0.71974635,\n",
              "        0.47845697],\n",
              "       [0.21366036, 0.78412795, 0.93207085, 0.5625777 , 0.47580373,\n",
              "        0.30543637],\n",
              "       [0.5387846 , 0.06375635, 0.634938  , 0.6435729 , 0.3422103 ,\n",
              "        0.8459996 ],\n",
              "       [0.21559799, 0.10748649, 0.1337657 , 0.95617914, 0.6482675 ,\n",
              "        0.55495536],\n",
              "       [0.02367401, 0.74084485, 0.35598373, 0.29914415, 0.6900625 ,\n",
              "        0.21108961]], dtype=float32)>"
            ]
          },
          "metadata": {},
          "execution_count": 23
        }
      ]
    },
    {
      "cell_type": "code",
      "source": [
        "\n",
        "tf.random.set_seed(90)\n",
        "new3=tf.random.shuffle(new2,seed=23)\n",
        "new3"
      ],
      "metadata": {
        "colab": {
          "base_uri": "https://localhost:8080/"
        },
        "id": "qNdrdCjfNgUU",
        "outputId": "4506212f-b376-445a-9b11-d005d33349cc"
      },
      "execution_count": 24,
      "outputs": [
        {
          "output_type": "execute_result",
          "data": {
            "text/plain": [
              "<tf.Tensor: shape=(5, 6), dtype=float32, numpy=\n",
              "array([[0.02367401, 0.74084485, 0.35598373, 0.29914415, 0.6900625 ,\n",
              "        0.21108961],\n",
              "       [0.5387846 , 0.06375635, 0.634938  , 0.6435729 , 0.3422103 ,\n",
              "        0.8459996 ],\n",
              "       [0.21366036, 0.78412795, 0.93207085, 0.5625777 , 0.47580373,\n",
              "        0.30543637],\n",
              "       [0.9925091 , 0.20401764, 0.26398885, 0.79402816, 0.71974635,\n",
              "        0.47845697],\n",
              "       [0.21559799, 0.10748649, 0.1337657 , 0.95617914, 0.6482675 ,\n",
              "        0.55495536]], dtype=float32)>"
            ]
          },
          "metadata": {},
          "execution_count": 24
        }
      ]
    },
    {
      "cell_type": "code",
      "source": [
        "tf.ones([4,5])\n"
      ],
      "metadata": {
        "colab": {
          "base_uri": "https://localhost:8080/"
        },
        "id": "M9UJXeP-OByy",
        "outputId": "bb6f529f-5f75-4f59-dd8a-aedd22bfb8c4"
      },
      "execution_count": 25,
      "outputs": [
        {
          "output_type": "execute_result",
          "data": {
            "text/plain": [
              "<tf.Tensor: shape=(4, 5), dtype=float32, numpy=\n",
              "array([[1., 1., 1., 1., 1.],\n",
              "       [1., 1., 1., 1., 1.],\n",
              "       [1., 1., 1., 1., 1.],\n",
              "       [1., 1., 1., 1., 1.]], dtype=float32)>"
            ]
          },
          "metadata": {},
          "execution_count": 25
        }
      ]
    },
    {
      "cell_type": "code",
      "source": [
        "tf.ones([3,4], tf.float16)"
      ],
      "metadata": {
        "colab": {
          "base_uri": "https://localhost:8080/"
        },
        "id": "fjyfP0SxPjbj",
        "outputId": "e81faa6f-b69c-46df-ca1f-6f5df10745fa"
      },
      "execution_count": 26,
      "outputs": [
        {
          "output_type": "execute_result",
          "data": {
            "text/plain": [
              "<tf.Tensor: shape=(3, 4), dtype=float16, numpy=\n",
              "array([[1., 1., 1., 1.],\n",
              "       [1., 1., 1., 1.],\n",
              "       [1., 1., 1., 1.]], dtype=float16)>"
            ]
          },
          "metadata": {},
          "execution_count": 26
        }
      ]
    },
    {
      "cell_type": "code",
      "source": [
        "tf.zeros(shape=(3,4))\n"
      ],
      "metadata": {
        "colab": {
          "base_uri": "https://localhost:8080/"
        },
        "id": "hPXmq_dlUTmq",
        "outputId": "7162ad53-3201-4e57-bc2c-6a719b24be9d"
      },
      "execution_count": 27,
      "outputs": [
        {
          "output_type": "execute_result",
          "data": {
            "text/plain": [
              "<tf.Tensor: shape=(3, 4), dtype=float32, numpy=\n",
              "array([[0., 0., 0., 0.],\n",
              "       [0., 0., 0., 0.],\n",
              "       [0., 0., 0., 0.]], dtype=float32)>"
            ]
          },
          "metadata": {},
          "execution_count": 27
        }
      ]
    },
    {
      "cell_type": "code",
      "source": [
        "import numpy as np"
      ],
      "metadata": {
        "id": "zcuKLmIjo0Vg"
      },
      "execution_count": 3,
      "outputs": []
    },
    {
      "cell_type": "code",
      "source": [
        "X=tf.constant([3,\n",
        "               3])\n",
        "X"
      ],
      "metadata": {
        "colab": {
          "base_uri": "https://localhost:8080/"
        },
        "id": "sFMJo9lko3E0",
        "outputId": "8cf16fb7-420b-4543-ded6-21bf89e5adb2"
      },
      "execution_count": 29,
      "outputs": [
        {
          "output_type": "execute_result",
          "data": {
            "text/plain": [
              "<tf.Tensor: shape=(2,), dtype=int32, numpy=array([3, 3], dtype=int32)>"
            ]
          },
          "metadata": {},
          "execution_count": 29
        }
      ]
    },
    {
      "cell_type": "code",
      "source": [
        "numpy_A=np.arange(1,25, dtype=np.int16)\n",
        "numpy_A"
      ],
      "metadata": {
        "colab": {
          "base_uri": "https://localhost:8080/"
        },
        "id": "DmCuU3Hio-MA",
        "outputId": "d099b83a-acab-4f43-d2ec-61d3e28955e9"
      },
      "execution_count": 30,
      "outputs": [
        {
          "output_type": "execute_result",
          "data": {
            "text/plain": [
              "array([ 1,  2,  3,  4,  5,  6,  7,  8,  9, 10, 11, 12, 13, 14, 15, 16, 17,\n",
              "       18, 19, 20, 21, 22, 23, 24], dtype=int16)"
            ]
          },
          "metadata": {},
          "execution_count": 30
        }
      ]
    },
    {
      "cell_type": "code",
      "source": [
        "A=tf.constant(numpy_A, shape=(2,3,4))\n",
        "A"
      ],
      "metadata": {
        "colab": {
          "base_uri": "https://localhost:8080/"
        },
        "id": "Z5Cab3psr3k7",
        "outputId": "4430314a-1f6a-45ca-87c6-abcf7078cd76"
      },
      "execution_count": 31,
      "outputs": [
        {
          "output_type": "execute_result",
          "data": {
            "text/plain": [
              "<tf.Tensor: shape=(2, 3, 4), dtype=int16, numpy=\n",
              "array([[[ 1,  2,  3,  4],\n",
              "        [ 5,  6,  7,  8],\n",
              "        [ 9, 10, 11, 12]],\n",
              "\n",
              "       [[13, 14, 15, 16],\n",
              "        [17, 18, 19, 20],\n",
              "        [21, 22, 23, 24]]], dtype=int16)>"
            ]
          },
          "metadata": {},
          "execution_count": 31
        }
      ]
    },
    {
      "cell_type": "code",
      "source": [
        "#Rank4_dim[0],\n",
        "#Rank4_dim[1],\n",
        "#Rank4_dim[2],\n",
        "Rank4_dim[1,1,1,4]\n"
      ],
      "metadata": {
        "colab": {
          "base_uri": "https://localhost:8080/",
          "height": 200
        },
        "id": "hGiv-vZixYcj",
        "outputId": "e85b197d-d464-4e47-f926-db695cadc00f"
      },
      "execution_count": 35,
      "outputs": [
        {
          "output_type": "error",
          "ename": "NameError",
          "evalue": "ignored",
          "traceback": [
            "\u001b[0;31m---------------------------------------------------------------------------\u001b[0m",
            "\u001b[0;31mNameError\u001b[0m                                 Traceback (most recent call last)",
            "\u001b[0;32m<ipython-input-35-5fadd508287f>\u001b[0m in \u001b[0;36m<module>\u001b[0;34m()\u001b[0m\n\u001b[1;32m      2\u001b[0m \u001b[0;31m#Rank4_dim[1],\u001b[0m\u001b[0;34m\u001b[0m\u001b[0;34m\u001b[0m\u001b[0;34m\u001b[0m\u001b[0m\n\u001b[1;32m      3\u001b[0m \u001b[0;31m#Rank4_dim[2],\u001b[0m\u001b[0;34m\u001b[0m\u001b[0;34m\u001b[0m\u001b[0;34m\u001b[0m\u001b[0m\n\u001b[0;32m----> 4\u001b[0;31m \u001b[0mRank4_dim\u001b[0m\u001b[0;34m[\u001b[0m\u001b[0;36m1\u001b[0m\u001b[0;34m,\u001b[0m\u001b[0;36m1\u001b[0m\u001b[0;34m,\u001b[0m\u001b[0;36m1\u001b[0m\u001b[0;34m,\u001b[0m\u001b[0;36m4\u001b[0m\u001b[0;34m]\u001b[0m\u001b[0;34m\u001b[0m\u001b[0;34m\u001b[0m\u001b[0m\n\u001b[0m",
            "\u001b[0;31mNameError\u001b[0m: name 'Rank4_dim' is not defined"
          ]
        }
      ]
    },
    {
      "cell_type": "code",
      "source": [
        "tf.size(Rank4_dim),tf.shape(Rank4_dim)"
      ],
      "metadata": {
        "colab": {
          "base_uri": "https://localhost:8080/",
          "height": 165
        },
        "id": "-PhBBdLi-43f",
        "outputId": "cb0d3e2e-4d4a-4011-d300-b44dff3d5383"
      },
      "execution_count": 36,
      "outputs": [
        {
          "output_type": "error",
          "ename": "NameError",
          "evalue": "ignored",
          "traceback": [
            "\u001b[0;31m---------------------------------------------------------------------------\u001b[0m",
            "\u001b[0;31mNameError\u001b[0m                                 Traceback (most recent call last)",
            "\u001b[0;32m<ipython-input-36-ee0f6d0defae>\u001b[0m in \u001b[0;36m<module>\u001b[0;34m()\u001b[0m\n\u001b[0;32m----> 1\u001b[0;31m \u001b[0mtf\u001b[0m\u001b[0;34m.\u001b[0m\u001b[0msize\u001b[0m\u001b[0;34m(\u001b[0m\u001b[0mRank4_dim\u001b[0m\u001b[0;34m)\u001b[0m\u001b[0;34m,\u001b[0m\u001b[0mtf\u001b[0m\u001b[0;34m.\u001b[0m\u001b[0mshape\u001b[0m\u001b[0;34m(\u001b[0m\u001b[0mRank4_dim\u001b[0m\u001b[0;34m)\u001b[0m\u001b[0;34m\u001b[0m\u001b[0;34m\u001b[0m\u001b[0m\n\u001b[0m",
            "\u001b[0;31mNameError\u001b[0m: name 'Rank4_dim' is not defined"
          ]
        }
      ]
    },
    {
      "cell_type": "code",
      "source": [
        "Rank4_dim.shape"
      ],
      "metadata": {
        "colab": {
          "base_uri": "https://localhost:8080/",
          "height": 165
        },
        "id": "8S8uk32_ULyJ",
        "outputId": "85b20ac3-f9d5-4bb0-9474-d77c16f021b3"
      },
      "execution_count": 37,
      "outputs": [
        {
          "output_type": "error",
          "ename": "NameError",
          "evalue": "ignored",
          "traceback": [
            "\u001b[0;31m---------------------------------------------------------------------------\u001b[0m",
            "\u001b[0;31mNameError\u001b[0m                                 Traceback (most recent call last)",
            "\u001b[0;32m<ipython-input-37-f5509b9c291c>\u001b[0m in \u001b[0;36m<module>\u001b[0;34m()\u001b[0m\n\u001b[0;32m----> 1\u001b[0;31m \u001b[0mRank4_dim\u001b[0m\u001b[0;34m.\u001b[0m\u001b[0mshape\u001b[0m\u001b[0;34m\u001b[0m\u001b[0;34m\u001b[0m\u001b[0m\n\u001b[0m",
            "\u001b[0;31mNameError\u001b[0m: name 'Rank4_dim' is not defined"
          ]
        }
      ]
    },
    {
      "cell_type": "code",
      "source": [
        "tf.shape(Rank4_dim)"
      ],
      "metadata": {
        "colab": {
          "base_uri": "https://localhost:8080/",
          "height": 165
        },
        "id": "dY-hkYmpURHN",
        "outputId": "a6ab9f6d-2114-4670-d801-932f6a7dcdbe"
      },
      "execution_count": 38,
      "outputs": [
        {
          "output_type": "error",
          "ename": "NameError",
          "evalue": "ignored",
          "traceback": [
            "\u001b[0;31m---------------------------------------------------------------------------\u001b[0m",
            "\u001b[0;31mNameError\u001b[0m                                 Traceback (most recent call last)",
            "\u001b[0;32m<ipython-input-38-158599a03d72>\u001b[0m in \u001b[0;36m<module>\u001b[0;34m()\u001b[0m\n\u001b[0;32m----> 1\u001b[0;31m \u001b[0mtf\u001b[0m\u001b[0;34m.\u001b[0m\u001b[0mshape\u001b[0m\u001b[0;34m(\u001b[0m\u001b[0mRank4_dim\u001b[0m\u001b[0;34m)\u001b[0m\u001b[0;34m\u001b[0m\u001b[0;34m\u001b[0m\u001b[0m\n\u001b[0m",
            "\u001b[0;31mNameError\u001b[0m: name 'Rank4_dim' is not defined"
          ]
        }
      ]
    },
    {
      "cell_type": "code",
      "source": [
        "tf.size(Rank4_dim)"
      ],
      "metadata": {
        "colab": {
          "base_uri": "https://localhost:8080/",
          "height": 165
        },
        "id": "zSZtOqdLUjAy",
        "outputId": "eb01aea0-7582-4ca8-f861-2e6911985e1e"
      },
      "execution_count": 39,
      "outputs": [
        {
          "output_type": "error",
          "ename": "NameError",
          "evalue": "ignored",
          "traceback": [
            "\u001b[0;31m---------------------------------------------------------------------------\u001b[0m",
            "\u001b[0;31mNameError\u001b[0m                                 Traceback (most recent call last)",
            "\u001b[0;32m<ipython-input-39-f365ffcd5f21>\u001b[0m in \u001b[0;36m<module>\u001b[0;34m()\u001b[0m\n\u001b[0;32m----> 1\u001b[0;31m \u001b[0mtf\u001b[0m\u001b[0;34m.\u001b[0m\u001b[0msize\u001b[0m\u001b[0;34m(\u001b[0m\u001b[0mRank4_dim\u001b[0m\u001b[0;34m)\u001b[0m\u001b[0;34m\u001b[0m\u001b[0;34m\u001b[0m\u001b[0m\n\u001b[0m",
            "\u001b[0;31mNameError\u001b[0m: name 'Rank4_dim' is not defined"
          ]
        }
      ]
    },
    {
      "cell_type": "code",
      "source": [
        "Txx=tf.constant([[[1,2,3,4],\n",
        "               [44,55,66,77],\n",
        "               [11,22,33,44]],\n",
        "               [[-11,-11,-22,0],\n",
        "                [-33,-22,-45,1],\n",
        "                [-90,-33,-5,2]]])\n",
        "Txx"
      ],
      "metadata": {
        "colab": {
          "base_uri": "https://localhost:8080/"
        },
        "id": "wrRIxEasVGGG",
        "outputId": "fc3b5d30-8af4-4a65-f78e-3e6f20f45c12"
      },
      "execution_count": 40,
      "outputs": [
        {
          "output_type": "execute_result",
          "data": {
            "text/plain": [
              "<tf.Tensor: shape=(2, 3, 4), dtype=int32, numpy=\n",
              "array([[[  1,   2,   3,   4],\n",
              "        [ 44,  55,  66,  77],\n",
              "        [ 11,  22,  33,  44]],\n",
              "\n",
              "       [[-11, -11, -22,   0],\n",
              "        [-33, -22, -45,   1],\n",
              "        [-90, -33,  -5,   2]]], dtype=int32)>"
            ]
          },
          "metadata": {},
          "execution_count": 40
        }
      ]
    },
    {
      "cell_type": "code",
      "source": [
        "Txx[0,1:3,-1]"
      ],
      "metadata": {
        "colab": {
          "base_uri": "https://localhost:8080/"
        },
        "id": "yf5jNIaxlpI5",
        "outputId": "0a4050e1-80c8-4654-dfd5-7f2021baf514"
      },
      "execution_count": 41,
      "outputs": [
        {
          "output_type": "execute_result",
          "data": {
            "text/plain": [
              "<tf.Tensor: shape=(2,), dtype=int32, numpy=array([77, 44], dtype=int32)>"
            ]
          },
          "metadata": {},
          "execution_count": 41
        }
      ]
    },
    {
      "cell_type": "code",
      "source": [
        "print(\"data type of every elemt\", Txx.dtype)\n",
        "print(\"Rank of the Txx\", Txx.ndim)\n",
        "print(\"shape of Tensor\", Txx.shape)\n",
        "print(\"elemnt along the zero axix\", Txx.shape[0])\n",
        "print(\"elemnt along the last axis\", Txx.shape[-1])\n",
        "print(\"Total number of elemnt in out tensor\", tf.size(Txx))\n",
        "print(\"Total number of elemnt in out tensor\", tf.size(Txx).numpy())"
      ],
      "metadata": {
        "colab": {
          "base_uri": "https://localhost:8080/"
        },
        "id": "eP5S384HWqCp",
        "outputId": "838dfb12-75e6-44b3-b4a1-91f33432193e"
      },
      "execution_count": 42,
      "outputs": [
        {
          "output_type": "stream",
          "name": "stdout",
          "text": [
            "data type of every elemt <dtype: 'int32'>\n",
            "Rank of the Txx 3\n",
            "shape of Tensor (2, 3, 4)\n",
            "elemnt along the zero axix 2\n",
            "elemnt along the last axis 4\n",
            "Total number of elemnt in out tensor tf.Tensor(24, shape=(), dtype=int32)\n",
            "Total number of elemnt in out tensor 24\n"
          ]
        }
      ]
    },
    {
      "cell_type": "markdown",
      "source": [
        "### FIND positional Mximum and minimum"
      ],
      "metadata": {
        "id": "7SmPVJdiQ5YK"
      }
    },
    {
      "cell_type": "code",
      "source": [
        "tf.random.set_seed(54)\n",
        "f=tf.random.uniform(shape=[50], seed=44)\n",
        "f"
      ],
      "metadata": {
        "colab": {
          "base_uri": "https://localhost:8080/"
        },
        "id": "C__6UDxdQ_XA",
        "outputId": "481943e4-50db-47e1-9af1-275c2ae35d30"
      },
      "execution_count": 4,
      "outputs": [
        {
          "output_type": "execute_result",
          "data": {
            "text/plain": [
              "<tf.Tensor: shape=(50,), dtype=float32, numpy=\n",
              "array([0.3716128 , 0.44222832, 0.5605713 , 0.8743068 , 0.17082143,\n",
              "       0.46452737, 0.52323043, 0.20964503, 0.10697722, 0.03946435,\n",
              "       0.87404966, 0.71768963, 0.10574532, 0.35310626, 0.76714325,\n",
              "       0.56622696, 0.6238972 , 0.1610552 , 0.7993288 , 0.5770093 ,\n",
              "       0.36919117, 0.76673937, 0.10263765, 0.5047549 , 0.3360616 ,\n",
              "       0.07203269, 0.8152616 , 0.52208686, 0.20519626, 0.15474212,\n",
              "       0.886305  , 0.8356123 , 0.454759  , 0.07868052, 0.28148925,\n",
              "       0.50434506, 0.8965223 , 0.30998552, 0.34294426, 0.34674597,\n",
              "       0.41932583, 0.14564085, 0.9628029 , 0.7540554 , 0.01785898,\n",
              "       0.10919309, 0.7209574 , 0.2311883 , 0.11368942, 0.17573357],\n",
              "      dtype=float32)>"
            ]
          },
          "metadata": {},
          "execution_count": 4
        }
      ]
    },
    {
      "cell_type": "code",
      "source": [
        "tf.argmax(f), f[tf.argmax(f)], tf.reduce_max(f)"
      ],
      "metadata": {
        "colab": {
          "base_uri": "https://localhost:8080/"
        },
        "id": "4h1Ny83KTjFI",
        "outputId": "e3367301-d4b3-4f9e-9f1a-d61e742705b5"
      },
      "execution_count": 44,
      "outputs": [
        {
          "output_type": "execute_result",
          "data": {
            "text/plain": [
              "(<tf.Tensor: shape=(), dtype=int64, numpy=42>,\n",
              " <tf.Tensor: shape=(), dtype=float32, numpy=0.9628029>,\n",
              " <tf.Tensor: shape=(), dtype=float32, numpy=0.9628029>)"
            ]
          },
          "metadata": {},
          "execution_count": 44
        }
      ]
    },
    {
      "cell_type": "code",
      "source": [
        "assert f[tf.argmax(f)]==tf.reduce_max(f)"
      ],
      "metadata": {
        "id": "TXA5aMyoUAh-"
      },
      "execution_count": 45,
      "outputs": []
    },
    {
      "cell_type": "code",
      "source": [
        "Tg=tf.constant(np.random.randint(0,100,100), shape=[2,5,10])\n",
        "\n",
        "Tg"
      ],
      "metadata": {
        "colab": {
          "base_uri": "https://localhost:8080/"
        },
        "id": "q07Y1YI_uMEd",
        "outputId": "a8a8629f-a3a8-407b-9edb-68e1be95990d"
      },
      "execution_count": 6,
      "outputs": [
        {
          "output_type": "execute_result",
          "data": {
            "text/plain": [
              "<tf.Tensor: shape=(2, 5, 10), dtype=int64, numpy=\n",
              "array([[[95, 13, 85, 25, 56, 21, 30, 29,  9, 13],\n",
              "        [76, 96, 25, 23, 84, 53, 68, 81, 54, 87],\n",
              "        [35, 56, 77, 25,  6, 21, 62, 83, 51,  2],\n",
              "        [77, 87, 63, 82, 79, 65, 73,  2, 59,  1],\n",
              "        [ 8, 50, 26, 39, 98, 82, 28,  6, 58, 73]],\n",
              "\n",
              "       [[59, 95, 77, 16, 99, 21, 89, 40, 80, 20],\n",
              "        [65, 58, 37, 63, 76, 91, 35, 69, 60, 75],\n",
              "        [54, 79, 90, 24, 38, 93, 38, 37, 45, 29],\n",
              "        [74, 82, 23, 61, 23,  7, 61, 94, 63, 82],\n",
              "        [42, 45, 50, 25, 72, 66, 54, 21, 95, 44]]])>"
            ]
          },
          "metadata": {},
          "execution_count": 6
        }
      ]
    },
    {
      "cell_type": "code",
      "source": [
        "tf.reduce_max(Tg)"
      ],
      "metadata": {
        "colab": {
          "base_uri": "https://localhost:8080/"
        },
        "id": "HZ4PxrLt0Sd4",
        "outputId": "52cba855-8e7f-4c97-f29a-b5c336e675fd"
      },
      "execution_count": 47,
      "outputs": [
        {
          "output_type": "execute_result",
          "data": {
            "text/plain": [
              "<tf.Tensor: shape=(), dtype=int64, numpy=98>"
            ]
          },
          "metadata": {},
          "execution_count": 47
        }
      ]
    },
    {
      "cell_type": "code",
      "source": [
        "tf.argmax(Tg)\n",
        "#Tg[tf.argmax(Tg)]\n"
      ],
      "metadata": {
        "colab": {
          "base_uri": "https://localhost:8080/"
        },
        "id": "XPJNAw4YwQ7J",
        "outputId": "8f25d97d-5a4c-4a16-e2ce-2f1acf632ebf"
      },
      "execution_count": 7,
      "outputs": [
        {
          "output_type": "execute_result",
          "data": {
            "text/plain": [
              "<tf.Tensor: shape=(5, 10), dtype=int64, numpy=\n",
              "array([[0, 1, 0, 0, 1, 0, 1, 1, 1, 1],\n",
              "       [0, 0, 1, 1, 0, 1, 0, 0, 1, 0],\n",
              "       [1, 1, 1, 0, 1, 1, 0, 0, 0, 1],\n",
              "       [0, 0, 0, 0, 0, 0, 0, 1, 1, 1],\n",
              "       [1, 0, 1, 0, 0, 0, 1, 1, 1, 0]])>"
            ]
          },
          "metadata": {},
          "execution_count": 7
        }
      ]
    },
    {
      "cell_type": "code",
      "source": [
        "gt=tf.reshape(Tg,[1,100])\n",
        "gt"
      ],
      "metadata": {
        "colab": {
          "base_uri": "https://localhost:8080/"
        },
        "id": "LXFHOrpHx0Jg",
        "outputId": "bffc1bef-4eb2-4180-9f87-77fa59c744bf"
      },
      "execution_count": 49,
      "outputs": [
        {
          "output_type": "execute_result",
          "data": {
            "text/plain": [
              "<tf.Tensor: shape=(1, 100), dtype=int64, numpy=\n",
              "array([[76,  2, 71, 56, 88, 13, 19, 53, 37,  9, 53, 94, 63, 52, 33, 38,\n",
              "        13, 83,  0, 23, 14, 72,  2, 68, 56, 79, 46, 70, 10, 53, 10, 37,\n",
              "         2, 26, 18, 15, 42, 41, 86, 90, 35, 14, 81, 41, 29,  4, 46, 46,\n",
              "         5, 42, 26, 17, 36, 57, 28, 86, 88, 51, 98, 88, 79, 22, 61, 22,\n",
              "        45, 71, 16, 85, 94, 14, 55, 46, 21, 87, 80, 89, 31, 84, 64, 52,\n",
              "        16, 31, 66, 34, 26, 19, 76, 78, 62, 64, 28, 59, 44, 63, 58, 83,\n",
              "         6, 55, 92, 95]])>"
            ]
          },
          "metadata": {},
          "execution_count": 49
        }
      ]
    },
    {
      "cell_type": "code",
      "source": [
        "gt100=gt/100\n",
        "gt100"
      ],
      "metadata": {
        "colab": {
          "base_uri": "https://localhost:8080/"
        },
        "id": "hy9BrkueyF3u",
        "outputId": "3e915562-6435-4c4e-88df-4bf6aa4ede8e"
      },
      "execution_count": 50,
      "outputs": [
        {
          "output_type": "execute_result",
          "data": {
            "text/plain": [
              "<tf.Tensor: shape=(1, 100), dtype=float64, numpy=\n",
              "array([[0.76, 0.02, 0.71, 0.56, 0.88, 0.13, 0.19, 0.53, 0.37, 0.09, 0.53,\n",
              "        0.94, 0.63, 0.52, 0.33, 0.38, 0.13, 0.83, 0.  , 0.23, 0.14, 0.72,\n",
              "        0.02, 0.68, 0.56, 0.79, 0.46, 0.7 , 0.1 , 0.53, 0.1 , 0.37, 0.02,\n",
              "        0.26, 0.18, 0.15, 0.42, 0.41, 0.86, 0.9 , 0.35, 0.14, 0.81, 0.41,\n",
              "        0.29, 0.04, 0.46, 0.46, 0.05, 0.42, 0.26, 0.17, 0.36, 0.57, 0.28,\n",
              "        0.86, 0.88, 0.51, 0.98, 0.88, 0.79, 0.22, 0.61, 0.22, 0.45, 0.71,\n",
              "        0.16, 0.85, 0.94, 0.14, 0.55, 0.46, 0.21, 0.87, 0.8 , 0.89, 0.31,\n",
              "        0.84, 0.64, 0.52, 0.16, 0.31, 0.66, 0.34, 0.26, 0.19, 0.76, 0.78,\n",
              "        0.62, 0.64, 0.28, 0.59, 0.44, 0.63, 0.58, 0.83, 0.06, 0.55, 0.92,\n",
              "        0.95]])>"
            ]
          },
          "metadata": {},
          "execution_count": 50
        }
      ]
    },
    {
      "cell_type": "code",
      "source": [
        "tf.argmax(gt100)"
      ],
      "metadata": {
        "colab": {
          "base_uri": "https://localhost:8080/"
        },
        "id": "jfLSyGEkyXv-",
        "outputId": "e9179185-4436-4417-a190-a83a79ac377a"
      },
      "execution_count": 51,
      "outputs": [
        {
          "output_type": "execute_result",
          "data": {
            "text/plain": [
              "<tf.Tensor: shape=(100,), dtype=int64, numpy=\n",
              "array([0, 0, 0, 0, 0, 0, 0, 0, 0, 0, 0, 0, 0, 0, 0, 0, 0, 0, 0, 0, 0, 0,\n",
              "       0, 0, 0, 0, 0, 0, 0, 0, 0, 0, 0, 0, 0, 0, 0, 0, 0, 0, 0, 0, 0, 0,\n",
              "       0, 0, 0, 0, 0, 0, 0, 0, 0, 0, 0, 0, 0, 0, 0, 0, 0, 0, 0, 0, 0, 0,\n",
              "       0, 0, 0, 0, 0, 0, 0, 0, 0, 0, 0, 0, 0, 0, 0, 0, 0, 0, 0, 0, 0, 0,\n",
              "       0, 0, 0, 0, 0, 0, 0, 0, 0, 0, 0, 0])>"
            ]
          },
          "metadata": {},
          "execution_count": 51
        }
      ]
    },
    {
      "cell_type": "code",
      "source": [
        "yu = tf.constant([10,70,444,5,4,3])\n",
        "tf.argmax(yu), yu[tf.argmax(yu)]\n",
        "               "
      ],
      "metadata": {
        "colab": {
          "base_uri": "https://localhost:8080/"
        },
        "id": "jLbDrUNGyjBi",
        "outputId": "145628c4-257b-4b24-d63b-334a538a8fcf"
      },
      "execution_count": 52,
      "outputs": [
        {
          "output_type": "execute_result",
          "data": {
            "text/plain": [
              "(<tf.Tensor: shape=(), dtype=int64, numpy=2>,\n",
              " <tf.Tensor: shape=(), dtype=int32, numpy=444>)"
            ]
          },
          "metadata": {},
          "execution_count": 52
        }
      ]
    },
    {
      "cell_type": "code",
      "source": [
        "GG=tf.squeeze(gt)\n",
        "GG,GG.shape,gt.shape"
      ],
      "metadata": {
        "colab": {
          "base_uri": "https://localhost:8080/"
        },
        "id": "kWnkONz-zSNR",
        "outputId": "64387256-b565-4b90-e223-e741e1a514d3"
      },
      "execution_count": 59,
      "outputs": [
        {
          "output_type": "execute_result",
          "data": {
            "text/plain": [
              "(<tf.Tensor: shape=(100,), dtype=int64, numpy=\n",
              " array([76,  2, 71, 56, 88, 13, 19, 53, 37,  9, 53, 94, 63, 52, 33, 38, 13,\n",
              "        83,  0, 23, 14, 72,  2, 68, 56, 79, 46, 70, 10, 53, 10, 37,  2, 26,\n",
              "        18, 15, 42, 41, 86, 90, 35, 14, 81, 41, 29,  4, 46, 46,  5, 42, 26,\n",
              "        17, 36, 57, 28, 86, 88, 51, 98, 88, 79, 22, 61, 22, 45, 71, 16, 85,\n",
              "        94, 14, 55, 46, 21, 87, 80, 89, 31, 84, 64, 52, 16, 31, 66, 34, 26,\n",
              "        19, 76, 78, 62, 64, 28, 59, 44, 63, 58, 83,  6, 55, 92, 95])>,\n",
              " TensorShape([100]),\n",
              " TensorShape([1, 100]))"
            ]
          },
          "metadata": {},
          "execution_count": 59
        }
      ]
    },
    {
      "cell_type": "code",
      "source": [
        "GG[tf.argmax(GG)],tf.argmax(GG)\n"
      ],
      "metadata": {
        "colab": {
          "base_uri": "https://localhost:8080/"
        },
        "id": "cd4LX6CBzl7o",
        "outputId": "38f20182-62bd-4a40-ff15-9efbc1fe9cea"
      },
      "execution_count": 61,
      "outputs": [
        {
          "output_type": "execute_result",
          "data": {
            "text/plain": [
              "(<tf.Tensor: shape=(), dtype=int64, numpy=98>,\n",
              " <tf.Tensor: shape=(), dtype=int64, numpy=58>)"
            ]
          },
          "metadata": {},
          "execution_count": 61
        }
      ]
    },
    {
      "cell_type": "code",
      "source": [
        "tf.reduce_max(Tg)"
      ],
      "metadata": {
        "colab": {
          "base_uri": "https://localhost:8080/"
        },
        "id": "jIIcW8mKwzUp",
        "outputId": "7e403ea1-2a09-4dd9-effb-86ecfe6cbbce"
      },
      "execution_count": 53,
      "outputs": [
        {
          "output_type": "execute_result",
          "data": {
            "text/plain": [
              "<tf.Tensor: shape=(), dtype=int64, numpy=98>"
            ]
          },
          "metadata": {},
          "execution_count": 53
        }
      ]
    },
    {
      "cell_type": "code",
      "source": [
        "sl=[0,1,2,3]\n",
        "sl"
      ],
      "metadata": {
        "colab": {
          "base_uri": "https://localhost:8080/"
        },
        "id": "xd1IcXpzv8hk",
        "outputId": "93e69e36-dcbf-4ee4-fb3f-e080884115fd"
      },
      "execution_count": 10,
      "outputs": [
        {
          "output_type": "execute_result",
          "data": {
            "text/plain": [
              "[0, 1, 2, 3]"
            ]
          },
          "metadata": {},
          "execution_count": 10
        }
      ]
    },
    {
      "cell_type": "code",
      "source": [
        "tf.one_hot(sl,depth=4)"
      ],
      "metadata": {
        "colab": {
          "base_uri": "https://localhost:8080/"
        },
        "id": "YsJZz73p2s7M",
        "outputId": "6571d8d1-a51f-4cb2-ad92-91b64908ae11"
      },
      "execution_count": 11,
      "outputs": [
        {
          "output_type": "execute_result",
          "data": {
            "text/plain": [
              "<tf.Tensor: shape=(4, 4), dtype=float32, numpy=\n",
              "array([[1., 0., 0., 0.],\n",
              "       [0., 1., 0., 0.],\n",
              "       [0., 0., 1., 0.],\n",
              "       [0., 0., 0., 1.]], dtype=float32)>"
            ]
          },
          "metadata": {},
          "execution_count": 11
        }
      ]
    },
    {
      "cell_type": "code",
      "source": [
        "tf.one_hot(sl, depth=3, on_value=\"->\", off_value=\"O\")"
      ],
      "metadata": {
        "colab": {
          "base_uri": "https://localhost:8080/"
        },
        "id": "MVnKsRny3HCr",
        "outputId": "33387f34-b5a6-4f04-8e13-504ea35819af"
      },
      "execution_count": 12,
      "outputs": [
        {
          "output_type": "execute_result",
          "data": {
            "text/plain": [
              "<tf.Tensor: shape=(4, 3), dtype=string, numpy=\n",
              "array([[b'->', b'O', b'O'],\n",
              "       [b'O', b'->', b'O'],\n",
              "       [b'O', b'O', b'->'],\n",
              "       [b'O', b'O', b'O']], dtype=object)>"
            ]
          },
          "metadata": {},
          "execution_count": 12
        }
      ]
    },
    {
      "cell_type": "code",
      "source": [
        "GG=tf.range(1,10,2)\n",
        "GG"
      ],
      "metadata": {
        "colab": {
          "base_uri": "https://localhost:8080/"
        },
        "id": "LDD_HRPiWnMi",
        "outputId": "bd9c3188-6283-42b7-d251-5d6195d6d156"
      },
      "execution_count": 14,
      "outputs": [
        {
          "output_type": "execute_result",
          "data": {
            "text/plain": [
              "<tf.Tensor: shape=(5,), dtype=int32, numpy=array([1, 3, 5, 7, 9], dtype=int32)>"
            ]
          },
          "metadata": {},
          "execution_count": 14
        }
      ]
    },
    {
      "cell_type": "code",
      "source": [
        "tf.square(tf.cast(GG, dtype=tf.float32))"
      ],
      "metadata": {
        "colab": {
          "base_uri": "https://localhost:8080/"
        },
        "id": "yC7tCC9qXmcN",
        "outputId": "e410d6f1-98ed-42c4-e99e-2c00041f92e2"
      },
      "execution_count": 19,
      "outputs": [
        {
          "output_type": "execute_result",
          "data": {
            "text/plain": [
              "<tf.Tensor: shape=(5,), dtype=float32, numpy=array([ 1.,  9., 25., 49., 81.], dtype=float32)>"
            ]
          },
          "metadata": {},
          "execution_count": 19
        }
      ]
    },
    {
      "cell_type": "code",
      "source": [
        "gg=tf.sqrt(tf.cast(GG, dtype=tf.float32))\n",
        "gg"
      ],
      "metadata": {
        "colab": {
          "base_uri": "https://localhost:8080/"
        },
        "id": "mrxTtOw2Xt8s",
        "outputId": "0eb300d3-83f8-4858-e034-3f80f06b74a1"
      },
      "execution_count": 24,
      "outputs": [
        {
          "output_type": "execute_result",
          "data": {
            "text/plain": [
              "<tf.Tensor: shape=(5,), dtype=float32, numpy=\n",
              "array([1.       , 1.7320508, 2.236068 , 2.6457512, 3.       ],\n",
              "      dtype=float32)>"
            ]
          },
          "metadata": {},
          "execution_count": 24
        }
      ]
    },
    {
      "cell_type": "code",
      "source": [
        "tf.constant([56,7])"
      ],
      "metadata": {
        "colab": {
          "base_uri": "https://localhost:8080/"
        },
        "id": "QNRZWI2SXZ7-",
        "outputId": "cc7db919-2fff-46f1-b05b-c8b2a9f0b2f2"
      },
      "execution_count": 25,
      "outputs": [
        {
          "output_type": "execute_result",
          "data": {
            "text/plain": [
              "<tf.Tensor: shape=(2,), dtype=int32, numpy=array([56,  7], dtype=int32)>"
            ]
          },
          "metadata": {},
          "execution_count": 25
        }
      ]
    },
    {
      "cell_type": "code",
      "source": [
        "PH=tf.constant(np.array([6,7,9]))\n",
        "PH,type(PH)"
      ],
      "metadata": {
        "colab": {
          "base_uri": "https://localhost:8080/"
        },
        "id": "pDG_WBF8g9Gx",
        "outputId": "3d119c57-ce8e-4894-a2d0-328373b56d41"
      },
      "execution_count": 29,
      "outputs": [
        {
          "output_type": "execute_result",
          "data": {
            "text/plain": [
              "(<tf.Tensor: shape=(3,), dtype=int64, numpy=array([6, 7, 9])>,\n",
              " tensorflow.python.framework.ops.EagerTensor)"
            ]
          },
          "metadata": {},
          "execution_count": 29
        }
      ]
    },
    {
      "cell_type": "code",
      "source": [
        "ZA=tf.constant([[3,4,5],\n",
        "                [4,5,4]])\n",
        "za=np.array(ZA)\n",
        "zaa=tf.squeeze(za)\n",
        "print(ZA, type(ZA), \"\\n\")\n",
        "print(za,type(za), \"\\n\")\n",
        "print(zaa, type(zaa))"
      ],
      "metadata": {
        "colab": {
          "base_uri": "https://localhost:8080/"
        },
        "id": "NiWfRbtnhcQ3",
        "outputId": "fed939be-f245-4976-a282-45cd6b7ad619"
      },
      "execution_count": 37,
      "outputs": [
        {
          "output_type": "stream",
          "name": "stdout",
          "text": [
            "tf.Tensor(\n",
            "[[3 4 5]\n",
            " [4 5 4]], shape=(2, 3), dtype=int32) <class 'tensorflow.python.framework.ops.EagerTensor'> \n",
            "\n",
            "[[3 4 5]\n",
            " [4 5 4]] <class 'numpy.ndarray'> \n",
            "\n",
            "tf.Tensor(\n",
            "[[3 4 5]\n",
            " [4 5 4]], shape=(2, 3), dtype=int32) <class 'tensorflow.python.framework.ops.EagerTensor'>\n"
          ]
        }
      ]
    },
    {
      "cell_type": "code",
      "source": [
        "xxx=np.array(tf.squeeze(tf.reshape(ZA, [1,6])))\n",
        "yyy=xxx=np.array(tf.reshape(ZA, [6]))\n",
        "xxx,yyy"
      ],
      "metadata": {
        "colab": {
          "base_uri": "https://localhost:8080/"
        },
        "id": "_oXiFjCejzlH",
        "outputId": "5f4264a4-4259-47e9-973a-88a887ac6b3c"
      },
      "execution_count": 42,
      "outputs": [
        {
          "output_type": "execute_result",
          "data": {
            "text/plain": [
              "(array([3, 4, 5, 4, 5, 4], dtype=int32),\n",
              " array([3, 4, 5, 4, 5, 4], dtype=int32))"
            ]
          },
          "metadata": {},
          "execution_count": 42
        }
      ]
    }
  ]
}